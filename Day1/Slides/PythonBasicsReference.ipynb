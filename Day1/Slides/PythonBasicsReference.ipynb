{
 "cells": [
  {
   "cell_type": "markdown",
   "metadata": {},
   "source": [
    "# Introduction to python\n",
    "\n",
    "In this notebook, you can play about with some fundamental python techniques, before we go on to do some simple image processing in python.\n",
    "\n",
    "\n",
    "## How to use a python notebook\n",
    "The idea of a python notebook is that you can quickly iterate on your code without mucking about in the command line. \n",
    "\n",
    "A python notebook consists of 'cells', each of which is a semi-independent chunk of code. Cells can also contain code in 'markdown' (like this one) which is a bit like HTML, and renders in to pretty bits of text.\n",
    "\n",
    "Each section in gray is a cell, cells with 'In [ ]:' beside them are input cells for code. The putput of the code is shown below the code cell. Note that only the last output will be automatically shown, so if you want to see results from further up, you have to explicitly print them.\n",
    "\n",
    "To run your code, highlight a cell by clicking on it (it should then be outlined in green) then either clicking the play button at the top, or pressing Shift + Enter. Alternatively, you can do CTRL + Enter, which does not move you into the next cell and can be useful sometimes.\n",
    "\n",
    "Note that to use things defined in a cell, it must be executed - this can confuse you if you change something in a bit of code but forget to re-run it!\n",
    "\n",
    "Go ahead and run the cell below this text to try it."
   ]
  },
  {
   "cell_type": "code",
   "execution_count": null,
   "metadata": {
    "scrolled": true
   },
   "outputs": [],
   "source": [
    "# Python is really cool\n",
    "import this"
   ]
  },
  {
   "cell_type": "markdown",
   "metadata": {},
   "source": [
    "That should have printed some text telling you the Zen of python. The Zen is a good thing to keep in mind, but you probably don't have to worry about it yet!"
   ]
  },
  {
   "cell_type": "markdown",
   "metadata": {},
   "source": [
    "# Contents\n",
    "Below are links to sections of this notebook that explain some important concepts, or give example code. If you click them, you should be taken to roughly the right place in the notebook to get some more information.\n",
    "\n",
    "\n",
    "[Data Types and Variables](#DataTypesAndVariables)\n",
    "\n",
    "[Operators](#Operators)\n",
    "\n",
    "[Compound Operators](#CompoundOperators)\n",
    "\n",
    "[Other Data Types](#OtherDataTypes)\n",
    "\n",
    "[Data Structures](#DataStructures)\n",
    "\n",
    "[Tuples](#Tuples)\n",
    "\n",
    "[Dictionaries](#Dictionaries)\n",
    "\n",
    "[Lists](#Lists)\n",
    "\n",
    "[Program Control](#ProgramControl)\n",
    "\n",
    "[For Loop](#ForLoop)\n",
    "\n",
    "[While Loop](#WhileLoop)\n",
    "\n",
    "[A Note on Whitespace](#WhitespaceNote)\n",
    "\n",
    "[Break and Continue](#BreakAndContinue)\n",
    "\n",
    "[Example: Finding prime numbers](#PrimesExample)\n",
    "\n",
    "[Functions](#Functions)\n",
    "\n",
    "[Plotting](#Plotting)\n",
    "\n",
    "[A Very brief introduction to numpy](#NumpyQuickstart)\n",
    "\n",
    "[Example: Plotting the sin$^4$ function](#Sin4Example)\n",
    "\n",
    "[Filtering Signals](#FilteringSignals)\n",
    "\n",
    "[Finding Peaks in data](#PeakFinding)"
   ]
  },
  {
   "cell_type": "markdown",
   "metadata": {},
   "source": [
    "## Data Types and Variables\n",
    "<a id=\"DataTypesAndVariables\"></a>\n",
    "The idea of a data type and a variable go hand in hand, so let's look at them together.\n",
    "\n",
    "A variable is like a labelled box that you can put something in. For example:"
   ]
  },
  {
   "cell_type": "code",
   "execution_count": 2,
   "metadata": {
    "collapsed": true
   },
   "outputs": [],
   "source": [
    "aVariable = 10"
   ]
  },
  {
   "cell_type": "markdown",
   "metadata": {},
   "source": [
    "In this example, the variable is called `aVaraiable` (i.e. the label on the box), and the value stored by it is `10`. You can name your variable whatever you like, as long as it isn't one of the reserved names (listed below), doesn't start with a number, and doesn't use non-alphanumeric characters. The only non-alphanumeric character you're allowed is the underscore (_).\n",
    "\n",
    "The protected names are:\n",
    "\n",
    "    and       del       from      not       while    \n",
    "    as        elif      global    or        with     \n",
    "    assert    else      if        pass      yield    \n",
    "    break     except    import    print              \n",
    "    class     exec      in        raise              \n",
    "    continue  finally   is        return             \n",
    "    def       for       lambda    try\n",
    "\n",
    "Each of these does something in python, so you shouldn't name a variable with one of these.\n",
    "\n",
    "Another important thing is the use of code comments. In any line of python code, everything to the right of a # symbol is ignored. The usual use of this is to put little notes in your code so that six-months-from-now you can work out what is going on. Comments are very important and you should get into the habit of making them.\n",
    "\n",
    "The data type of `aVariable` is determined by what is stored in it - this is what makes python a dynamically typed language. In the case above, `aVariable` is an integer:"
   ]
  },
  {
   "cell_type": "code",
   "execution_count": 3,
   "metadata": {},
   "outputs": [
    {
     "name": "stdout",
     "output_type": "stream",
     "text": [
      "<type 'int'>\n"
     ]
    }
   ],
   "source": [
    "print(type(aVariable))"
   ]
  },
  {
   "cell_type": "markdown",
   "metadata": {},
   "source": [
    "Dynamic typing means that we can change the data type stored by `aVariable` whenever we want:"
   ]
  },
  {
   "cell_type": "code",
   "execution_count": null,
   "metadata": {},
   "outputs": [],
   "source": [
    "aVariable = 10.0\n",
    "print(type(aVariable))"
   ]
  },
  {
   "cell_type": "markdown",
   "metadata": {},
   "source": [
    "This introduces two of the fundamental data types in python; integers and floats. Integers deal with only whole numbers, while floats are needed to deal with real numbers.\n",
    "\n",
    "## Operators\n",
    "<a id=\"Operators\"></a>\n",
    "\n",
    "You can do all the usual arithmetic operations with ints and floats: addition, subtraction, division, multiplication and exponentiation as well as some less common (in every day use at least) operations like floor division and modulo division:"
   ]
  },
  {
   "cell_type": "code",
   "execution_count": null,
   "metadata": {},
   "outputs": [],
   "source": [
    "# Make up a couple of variables:\n",
    "variable1 = 10\n",
    "variable2 = 3\n",
    "\n",
    "# Addition\n",
    "print(variable1 + variable2)# <-- Expect 13\n",
    "# Subtraction\n",
    "print(variable1 - variable2)# <-- Expect 7\n",
    "# Division\n",
    "print(variable1 / variable2)# <-- 10/3 should be 3.333333... Why is it only 3?\n",
    "# Multiplication\n",
    "print(variable1 * variable2)# <-- Expect 30"
   ]
  },
  {
   "cell_type": "code",
   "execution_count": null,
   "metadata": {},
   "outputs": [],
   "source": [
    "# Now do the same thing with floats:\n",
    "variable3 = 10.0\n",
    "variable4 = 3.0\n",
    "\n",
    "# Addition\n",
    "print(variable3 + variable4)# <-- Expect 13.0\n",
    "# Subtraction\n",
    "print(variable3 - variable4)# <-- Expect 7.0\n",
    "# Division\n",
    "print(variable3 / variable4)# <-- Expect 3.3333...\n",
    "# Multiplication\n",
    "print(variable3 * variable4)# <-- Expect 30.0\n",
    "\n",
    "print"
   ]
  },
  {
   "cell_type": "code",
   "execution_count": null,
   "metadata": {},
   "outputs": [],
   "source": [
    "# Now look at some of the stranger operators\n",
    "\n",
    "# Exponentiation\n",
    "print(variable1 ** variable2)# 10^3 = 1000\n",
    "print(variable3 ** variable4)# Float version gives 1000.0\n",
    "\n",
    "# Modulo division\n",
    "print(variable1 % variable2)# 10/3 = 3 remainder 1 (so should get 1)\n",
    "print(variable3 % variable4)# Float version gives 1.0\n",
    "\n",
    "# Floor division\n",
    "print(variable1 // variable2)# Same as normal division for integers\n",
    "print(variable3 // variable4)# Should be 3.0"
   ]
  },
  {
   "cell_type": "markdown",
   "metadata": {},
   "source": [
    "__Important Note__:\n",
    "\n",
    "Because of how integer division works, it is possible to get totally incorrect results if you're not careful. For example:"
   ]
  },
  {
   "cell_type": "code",
   "execution_count": null,
   "metadata": {},
   "outputs": [],
   "source": [
    "print(1/2)# Both integer, so what happens?"
   ]
  },
  {
   "cell_type": "markdown",
   "metadata": {},
   "source": [
    "## Compound operators\n",
    "<a id=\"CompoundOperators\"></a>\n",
    "Compund operators do two things at once, for example:"
   ]
  },
  {
   "cell_type": "code",
   "execution_count": null,
   "metadata": {},
   "outputs": [],
   "source": [
    "someVariable = 10\n",
    "someVariable *= 2\n",
    "print(someVariable)"
   ]
  },
  {
   "cell_type": "markdown",
   "metadata": {},
   "source": [
    "In this case, we multiplied `someVariable` by 2, then assigned the result of that back into `someVariable`. This is equivalent to the following code:"
   ]
  },
  {
   "cell_type": "code",
   "execution_count": null,
   "metadata": {},
   "outputs": [],
   "source": [
    "someVariable = 10\n",
    "someVariable = someVariable * 2\n",
    "print(someVariable)"
   ]
  },
  {
   "cell_type": "markdown",
   "metadata": {},
   "source": [
    "but a bit tidier.\n",
    "\n",
    "There are a bunch of operators like this: `+=`, `-=`, `*=`, `**=`, `/=`, `%=`, and `//=`. They should be used with caution, but can make your code much cleaner."
   ]
  },
  {
   "cell_type": "markdown",
   "metadata": {},
   "source": [
    "## The other data types\n",
    "<a id=\"OtherDataTypes\"></a>\n",
    "There are a few other data types you need to know about, starting with the simplest: booleans.\n",
    "\n",
    "Boolean variables can have one of two values: `True` or `False`. Probably the most common place you will see them is as a result of comparison operators:"
   ]
  },
  {
   "cell_type": "code",
   "execution_count": null,
   "metadata": {},
   "outputs": [],
   "source": [
    "aBigNumber = 1000\n",
    "aSmallerNumber = 250\n",
    "\n",
    "# The equality operator\n",
    "print(aBigNumber / aSmallerNumber == 4)\n",
    "print(type(aBigNumber / aSmallerNumber == 4))\n",
    "\n",
    "# The greater than operator:\n",
    "print(aBigNumber > aSmallerNumber)\n",
    "print(type(aBigNumber > aSmallerNumber))\n",
    "\n",
    "# The greater than or equal to operator:\n",
    "print(aBigNumber >= aSmallerNumber)\n",
    "print(type(aBigNumber >= aSmallerNumber))\n",
    "\n",
    "# The less than operator:\n",
    "print(aBigNumber < aSmallerNumber)\n",
    "print(type(aBigNumber < aSmallerNumber))\n",
    "\n",
    "# The less than or equal to operator:\n",
    "print(aBigNumber <= aSmallerNumber)\n",
    "print(type(aBigNumber <= aSmallerNumber))"
   ]
  },
  {
   "cell_type": "markdown",
   "metadata": {},
   "source": [
    "Booleans can be used with a few conditional operators:"
   ]
  },
  {
   "cell_type": "code",
   "execution_count": null,
   "metadata": {},
   "outputs": [],
   "source": [
    "someNumber = 36\n",
    "factor1 = 3\n",
    "factor2 = 5\n",
    "\n",
    "# Using the and operator\n",
    "# Are both 3 and 5 factors fo 36?\n",
    "print(someNumber % factor1 == 0 and someNumber % factor2 == 0)\n",
    "\n",
    "# Well maybe one of them is, use the or operator\n",
    "print(someNumber % factor1 == 0 or someNumber % factor2 == 0)\n",
    "\n",
    "# What if I want to know if neither is a factor?\n",
    "print(not(someNumber % factor1 == 0) and not(someNumber % factor2 == 0))# Extremely contrived example!"
   ]
  },
  {
   "cell_type": "markdown",
   "metadata": {},
   "source": [
    "The last data type is the string. \n",
    "\n",
    "Strings are denoted using double quotes (`\"`), though they can also be denoted using single quotes (`'`). \n",
    "\n",
    "Strings are pretty simple, but have a few gotchas:"
   ]
  },
  {
   "cell_type": "code",
   "execution_count": null,
   "metadata": {},
   "outputs": [],
   "source": [
    "aString = \"Hello \"# Simple Enough\n",
    "print(aString)\n",
    "\n",
    "# Addition works with strings!\n",
    "print(aString + \"World!\")\n",
    "\n",
    "# Multiplication also works! (but maybe not how you expected...)\n",
    "print(aString*3)\n",
    "\n",
    "# To get the result of calculations into strings, you need to do some conversions...\n",
    "tenSquared = 10 **2\n",
    "print(\"Ten squared is: \" + str(tenSquared))# First way - okay if you want the number at the end\n",
    "print(\"%d is ten squared\"%(tenSquared))# This way allows you to put the number anywhere, but you need to learn some format codes\n",
    "print(\"I told you, {0} is ten squared!\".format(tenSquared))# Preffered way - can put multiple results in easily."
   ]
  },
  {
   "cell_type": "markdown",
   "metadata": {},
   "source": [
    "The `.format()` method for putting things into strings is preferred because it is just nicer. To restrict the accuracy of floating point numbers, you can specify the number of decimal points to use:"
   ]
  },
  {
   "cell_type": "code",
   "execution_count": null,
   "metadata": {},
   "outputs": [],
   "source": [
    "# Approximate value of pi:\n",
    "approxPi = 22.0/7.0 # Note - used float division!\n",
    "\n",
    "print(\"My approximate pi is accurate to 0 DP: {0:.0f}\".format(approxPi))\n",
    "print(\"My approximate pi is accurate to 1 DP: {0:.1f}\".format(approxPi))# Specify a number od DP after a point\n",
    "print(\"My approximate pi is accurate to 2 DP: {0:.2f}\".format(approxPi))\n",
    "print(\"But not 3 DP: {0:.3f}\".format(approxPi))# Note - it will round the printed value!\n",
    "print(\"The approximate value is: {0}\".format(approxPi))\n"
   ]
  },
  {
   "cell_type": "markdown",
   "metadata": {},
   "source": [
    "One really annoying 'feature' of Windows is that the backslash (\\\\) is used in directory names.\n",
    "\n",
    "Unfortunately, the backslash is also used to escape characters in strings. What does this mean? Consider the directory C:\\newStuff:"
   ]
  },
  {
   "cell_type": "code",
   "execution_count": null,
   "metadata": {},
   "outputs": [],
   "source": [
    "print(\"C:\\newStuff\")"
   ]
  },
  {
   "cell_type": "markdown",
   "metadata": {},
   "source": [
    "This will most certainly cause headaches in code. Fortunately, there are ways round it:\n",
    "    "
   ]
  },
  {
   "cell_type": "code",
   "execution_count": null,
   "metadata": {},
   "outputs": [],
   "source": [
    "print(r\"C:\\newStuff\")# Tell python to treat it as a 'raw string'\n",
    "print(\"C:\\\\newStuff\")# Escape the escape character!"
   ]
  },
  {
   "cell_type": "markdown",
   "metadata": {},
   "source": [
    "Which trick you use is up to you, and will depend on the characters needed in the directory. This is one place where it would be a good idea to put a comment explaining why you did it the way you did!\n",
    "\n",
    "Strings can be treated like arrays of characters, so you can access any element, but you can't change it."
   ]
  },
  {
   "cell_type": "markdown",
   "metadata": {},
   "source": [
    "# Data Structures\n",
    "<a id=\"DataStructures\"></a>\n",
    "Data structures are the mechanisms by which data is organised into a structure. In python there are three ways to do this.\n",
    "\n",
    "## Tuples\n",
    "<a id=\"Tuples\"></a>\n",
    "Tuples can contain any number of elements, but once you create one, you can't change it. Tuples are created using 'normal' parentheses:"
   ]
  },
  {
   "cell_type": "code",
   "execution_count": null,
   "metadata": {},
   "outputs": [],
   "source": [
    "# Make a tuple of three numbers\n",
    "aTuple = (1,2,3)\n",
    "print(aTuple)# This is fine\n",
    "print(aTuple[0])# This is also fine\n",
    "#aTuple[1] = 4 # This will not work!\n",
    "\n",
    "# Tuples can have anything in them - eg tuple of tuples\n",
    "anotherTuple = ((1,0,0),(0,1,0),(0,0,1))# Happens to be an identity matrix!\n",
    "print(anotherTuple)# But python doesn't know that...\n",
    "\n",
    "# You can even have different data types in a tuple:\n",
    "yetAnotherTuple = ('a', (1,2), 3)\n",
    "print(yetAnotherTuple)\n",
    "\n",
    "# Some arithmetic works on tuples, but might not do what you expected\n",
    "print(aTuple*3)\n",
    "print(aTuple + aTuple) # Addition only works between two tuples!"
   ]
  },
  {
   "cell_type": "markdown",
   "metadata": {},
   "source": [
    "It might seem obvious to use tuples to hold vectors in your code, but the fact that they cannot be changed means it probably isn't a good idea.\n",
    "\n",
    "Tuples are used by some modules to return several things at once.\n",
    "\n",
    "#### A Side note:\n",
    "If you look in the top left of this notebook, you will probably see that we are using Python 2. While this is fine, Python 2 will be retired soon (Python 3 is already out). \n",
    "\n",
    "One big difference between Python 2 and Python 3 is that the `print` statement becomes a function. That means that you **must** put the things you want to print in parentheses. In Python 2 this is not the case, so something like\n",
    "\n",
    "    print \"Hello World!\"\n",
    "\n",
    "is fine; in Python 3 however, this would cause an error. The workaround is to pretend that we're using the function version of `print` by giving tuples to the statement version.\n",
    "\n",
    "If that is really confusing, don't worry about it. The main reason for highlighting this is that when you use 3rd party libraries, you might see some old Python 2 code and not know how to fix it to work with your shiny Python 3 code. When writing new code, follow the example in this notebook, and you should be fine.\n",
    "\n",
    "## Dictionary\n",
    "<a id=\"Dictionaries\"></a>\n",
    "\n",
    "The dictionary in python is a map from one thing to another. Dictionaries are formed of key=value pairs which makes them useful for containing e.g. DICOM headers. Dictionaries are created using curly braces:"
   ]
  },
  {
   "cell_type": "code",
   "execution_count": null,
   "metadata": {},
   "outputs": [],
   "source": [
    "aDictionary = {'a':1, 'b':2}\n",
    "print(aDictionary)# This is okay, but probably confusing\n",
    "print(aDictionary['a'])\n",
    "\n",
    "# It is okay to change values in a dictionary\n",
    "aDictionary['b'] = 3\n",
    "print(aDictionary['b'])\n",
    "\n",
    "# And it is very easy to add to a dictionary:\n",
    "aDictionary['c'] = 4\n",
    "print(aDictionary)# Note the weird order - this is not guaranteed to be the same every time!\n",
    "\n",
    "# Anything can be the key or value of a dictionary\n",
    "anotherDictionary = {(1,2,3) : 'abc', (4,5,6): 'def'}\n",
    "anotherDictionary['ghi'] = \"Yep\"# You can even mix types!\n",
    "print(anotherDictionary)\n",
    "\n",
    "# Note - arithmetic doesn't work on dictionaries"
   ]
  },
  {
   "cell_type": "markdown",
   "metadata": {},
   "source": [
    "Dictionaries have a few useful functions built into them for handling the key and value lists. This is important when you want to do something to every value in a dictionary.\n",
    "\n",
    "The two lists can be accessed using the `.keys()` and `.values()` functions:"
   ]
  },
  {
   "cell_type": "code",
   "execution_count": null,
   "metadata": {},
   "outputs": [],
   "source": [
    "print(aDictionary.keys())\n",
    "\n",
    "print(aDictionary.values())"
   ]
  },
  {
   "cell_type": "markdown",
   "metadata": {},
   "source": [
    "Dictionaries are handy, but the most general data structure is the list\n",
    "\n",
    "## Lists\n",
    "<a id=\"Lists\"></a>\n",
    "Lists are, as the name implies, lists of items. The items can be different types, and you can change the values after initialising the list. "
   ]
  },
  {
   "cell_type": "code",
   "execution_count": null,
   "metadata": {},
   "outputs": [],
   "source": [
    "# Make a list\n",
    "aList = [1,2,3,4]\n",
    "print(aList)\n",
    "\n",
    "# You can change things!\n",
    "aList[0] = 5\n",
    "print(aList)\n",
    "\n",
    "# Use a list of lists to make something like a matrix:\n",
    "anotherList = [[1,0,0],[0,1,0],[0,0,1]]\n",
    "print(anotherList)# Python still doesn't print it right...\n",
    "\n",
    "# Arithmetic works again, but probably not as you expect\n",
    "print(aList * 2)\n",
    "print(aList + anotherList)# Addition only works between two lists!"
   ]
  },
  {
   "cell_type": "markdown",
   "metadata": {},
   "source": [
    "You could use python lists to contain an N-dimensional image. There would be no problem doing that from the point of view of memory, but the performance of python lists is not great. There are specialised libraries for dealing with numerical data like images, which we will look at later.\n",
    "\n",
    "Lists have some useful built in functions, like the append function, which (wait for it) appends data to the end of the list:\n"
   ]
  },
  {
   "cell_type": "code",
   "execution_count": null,
   "metadata": {},
   "outputs": [],
   "source": [
    "# Contrived Example!!\n",
    "# Create an empty list:\n",
    "emptyList = []\n",
    "emptyList.append(1)\n",
    "emptyList.append(2)\n",
    "print(emptyList)"
   ]
  },
  {
   "cell_type": "markdown",
   "metadata": {},
   "source": [
    "You can also extend a list with another list, which can be handy sometimes"
   ]
  },
  {
   "cell_type": "code",
   "execution_count": null,
   "metadata": {},
   "outputs": [],
   "source": [
    "print(emptyList)\n",
    "emptyList.extend([3,4,5])\n",
    "print(emptyList)"
   ]
  },
  {
   "cell_type": "markdown",
   "metadata": {},
   "source": [
    "Lists in python can be any length, and can contain any data type, even mixed ones."
   ]
  },
  {
   "cell_type": "markdown",
   "metadata": {},
   "source": [
    "# Program control\n",
    "<a id=\"ProgramControl\"></a>\n",
    "So, now you can create lists, dictionaries and tuples of different data types and do some operations on them. The next bit of the jigsaw is being able to control the flow of your program. \n",
    "\n",
    "Program control flow is done using if/else statements and loops. If/else statements are pretty simple:"
   ]
  },
  {
   "cell_type": "code",
   "execution_count": null,
   "metadata": {
    "scrolled": true
   },
   "outputs": [],
   "source": [
    "# Another contrived example!\n",
    "aNumber = 10\n",
    "firstFactor = 7\n",
    "secondFactor = 5\n",
    "\n",
    "# Is 7 a factor of 10? If not, is 5 a factor of 10?\n",
    "\n",
    "if aNumber % firstFactor == 0:\n",
    "    print(\"{0} is a factor of {1}\".format(firstFactor, aNumber))\n",
    "elif aNumber % secondFactor == 0:\n",
    "    print(\"{0} is not a factor of {1}, but {2} is\".format(firstFactor, aNumber, secondFactor))\n",
    "else:\n",
    "    print(\"Neither {0} or {1} is a factor of {2}\".format(firstFactor, secondFactor, aNumber))\n",
    "\n"
   ]
  },
  {
   "cell_type": "markdown",
   "metadata": {},
   "source": [
    "You can play about with the numbers in the above example and see how re-running under different conditions changes which branch of the if-else tree we go down.\n",
    "\n",
    "# Loops\n",
    "\n",
    "Unlike other languages, there are only two types of loop in python.\n",
    "\n",
    "## For loop\n",
    "<a id=\"ForLoop\"></a>\n",
    "The for loop is used when you have something to iterate over, for example:"
   ]
  },
  {
   "cell_type": "code",
   "execution_count": null,
   "metadata": {},
   "outputs": [],
   "source": [
    "for i in [1,2,3,4,5]:\n",
    "    print(i)"
   ]
  },
  {
   "cell_type": "markdown",
   "metadata": {},
   "source": [
    "In this example, the syntax is \n",
    "\n",
    "**for** *loop variable name* **in** *something to iterate over*:\n",
    "\n",
    "Obviously, typing `[1,2,3,4,5...]` is impractical, so there is a built in function to do that for you, called range. Range works like this:\n",
    "\n",
    "**range**(*start*, *stop*, *step*)\n",
    "\n",
    "but the step argument is optional (it defaults to 1). Also, it is important to note that range stops before the last value, so the equivalent code to that above would be."
   ]
  },
  {
   "cell_type": "code",
   "execution_count": null,
   "metadata": {},
   "outputs": [],
   "source": [
    "for i in range(1,6):\n",
    "    print(i)"
   ]
  },
  {
   "cell_type": "markdown",
   "metadata": {},
   "source": [
    "The `range()` function has a few gotchas, the most annoying of which is that it can only give integer values. This is really annoying when you want to get some floating point numbers in a range (for example to plot a function with). Fortunately, the library we will be using later to do some image processing has a few ways of getting floating point numbers in a range-like way, so we can re-visit that problem later\n",
    "\n",
    "The for loop can be used to do things called comprehensions. These are clever ways to build data structures using generating functions, for example"
   ]
  },
  {
   "cell_type": "code",
   "execution_count": null,
   "metadata": {},
   "outputs": [],
   "source": [
    "# Generate a list of squares:\n",
    "listOfSquares = [a**2 for a in range(1, 10)]\n",
    "print(listOfSquares)\n",
    "\n",
    "# Can also do dictionaries:\n",
    "dictOfSquares = {a:a**2 for a in range(1, 10)}\n",
    "print(dictOfSquares)"
   ]
  },
  {
   "cell_type": "markdown",
   "metadata": {},
   "source": [
    "## While loop\n",
    "<a id=\"WhileLoop\"></a>\n",
    "The while loop is used to execute some code while a condition is true, for example:\n"
   ]
  },
  {
   "cell_type": "code",
   "execution_count": null,
   "metadata": {},
   "outputs": [],
   "source": [
    "# Count up in threes below 10\n",
    "currentNumber = 0\n",
    "while currentNumber < 10:\n",
    "    print(currentNumber)\n",
    "    currentNumber += 3"
   ]
  },
  {
   "cell_type": "markdown",
   "metadata": {},
   "source": [
    "The syntax is pretty obvious:\n",
    "\n",
    "**while** *condition*:\n",
    "Do Stuff\n",
    "\n",
    "Note that the colon after the condition is part of the statement!\n",
    "\n",
    "### A note on whitespace\n",
    "<a id=\"WhitespaceNote\"></a>\n",
    "As you have probably noticed, there isn't really anything splitting up the different bits of a Python program. In C for example, copious use of semicolons and curly braces is made to show where lines end and how the code is made out of chunks.\n",
    "\n",
    "In Python, code is chunked according to how indented it is, i.e. how far to the right a line of code starts. \n",
    "\n",
    "This can be quite easy to mess up, so when writing code use an IDE (Integrated Development Environment) that knows Python and will auto-indent for you. If the indentation goes wrong, use the TAB key to indent your code until it looks right - at that point it will probably run, but you may need to tweak it.\n",
    "\n",
    "Oh, and watch out for accidental spaces at the start of lines!\n",
    "\n",
    "## Break and continue\n",
    "<a id=\"BreakAndContinue\"></a>\n",
    "There are two important keywords for use wil loops, `break` and `continue`.\n",
    "\n",
    "Break makes the program jump out of the loop and go to the next thing after it - this is useful when you want to stop looping as soon as a condition is satisfied\n",
    "\n",
    "Continue makes the loop jump to the next iteration without doing any of the code in the body of the loop below the continue statement. This can be useful when you need to e.g. skip over an iteration of the loop when some condition is met.\n",
    "\n",
    "### Example: Finding primes below 100\n",
    "<a id=\"PrimesExample\"></a>\n",
    "We can put the while and for loops together to find a list of all primes less than 100."
   ]
  },
  {
   "cell_type": "code",
   "execution_count": null,
   "metadata": {},
   "outputs": [],
   "source": [
    "currentNumber = 2\n",
    "listOfPrimes = [2]# Need to start with 2 because *everything* is divisible by 1\n",
    "while currentNumber < 100:# Only looking for numbers less than 100\n",
    "    isPrime = False\n",
    "    for p in listOfPrimes:\n",
    "        if currentNumber % p == 0:# See if the current number is divisible by any of our known primes\n",
    "            isPrime = False # If it is, it can't be prime!\n",
    "            break# No point checking the rest of the list\n",
    "        else:\n",
    "            isPrime = True # It might be prime - need to check the other numbers in our list\n",
    "            continue # Jump to the next iteration\n",
    "        \n",
    "    if isPrime:\n",
    "        listOfPrimes.append(currentNumber)# Add the latest number to the primes list, if it is prime.\n",
    "    currentNumber += 1 # Increment the current number\n",
    "\n",
    "print(listOfPrimes)"
   ]
  },
  {
   "cell_type": "markdown",
   "metadata": {},
   "source": [
    "By now we can write reasonably full python programs that can solve actual problems! \n",
    "\n",
    "# Functions\n",
    "<a id=\"Functions\"></a>\n",
    "Functions are a way to wrap up bits of python code that we may want to run several times in such a way that we can just give the function some arguments to work with, and let it give us back the result.\n",
    "\n",
    "We have seen a few functions so far, for example the `range()` function, but haven't tried making our own yet. Function definitions start with the keyword `def`, after which comes the function name, then a list of arguments in parentheses followed by a colon. The same indentation rules apply for functions as for if/else statements and loops.\n",
    "\n",
    "Lets write a simple function that calculates the nth root of a number, and returns it to us"
   ]
  },
  {
   "cell_type": "code",
   "execution_count": null,
   "metadata": {},
   "outputs": [],
   "source": [
    "# Calculating the nth root of a number, using a function.\n",
    "def nthRoot(number, n):\n",
    "    \"\"\"\n",
    "    This is a docstring. It is a short comment that tells you what the function does, what arguments it expects and \n",
    "    what values it returns. You may also want to put some info about who wrote the function, and when it was written in here too.\n",
    "    \n",
    "    Docstrings are enclosed in triple-double quotes.\n",
    "    \n",
    "    Function to return the nth root of a number.\n",
    "    Arguments:\n",
    "    number       The number whose root we want to find\n",
    "    n            The root we want\n",
    "    \n",
    "    Returns:\n",
    "    theRoot      The nth root of the given number\n",
    "    \"\"\"\n",
    "    exponent = 1.0/n # Easy way to get nth root\n",
    "    theRoot = number ** exponent\n",
    "    return theRoot"
   ]
  },
  {
   "cell_type": "markdown",
   "metadata": {},
   "source": [
    "This function is not hugely complicated; it just loks big because of the long docstring. We can then use the function just like you would any other:"
   ]
  },
  {
   "cell_type": "code",
   "execution_count": null,
   "metadata": {},
   "outputs": [],
   "source": [
    "print(nthRoot(4, 2))# Square root of 4 should be 2\n",
    "\n",
    "print(nthRoot(8, 3))# cube root of 8 should also be 2"
   ]
  },
  {
   "cell_type": "markdown",
   "metadata": {},
   "source": [
    "It is also possible to have optional arguments in functions; to do this, simply give the default value in the function definition. Redefining the nthRoot function to default to square roots:"
   ]
  },
  {
   "cell_type": "code",
   "execution_count": null,
   "metadata": {
    "collapsed": true
   },
   "outputs": [],
   "source": [
    "# Calculating the nth root of a number, using a function.\n",
    "def nthRoot(number, n=2):\n",
    "    \"\"\"\n",
    "    This is a docstring. It is a short comment that tells you what the function does, what arguments it expects and \n",
    "    what values it returns. You may also want to put some info about who wrote the function, and when it was written in here too.\n",
    "    \n",
    "    Docstrings are enclosed in triple-double quotes.\n",
    "    \n",
    "    Function to return the nth root of a number.\n",
    "    Arguments:\n",
    "    number       The number whose root we want to find\n",
    "    n            The root we want. Default 2\n",
    "    \n",
    "    Returns:\n",
    "    theRoot      The nth root of the given number\n",
    "    \"\"\"\n",
    "    exponent = 1.0/n # Easy way to get nth root\n",
    "    theRoot = number ** exponent\n",
    "    return theRoot"
   ]
  },
  {
   "cell_type": "markdown",
   "metadata": {},
   "source": [
    "We can now call the function with only 1 argument to get square roots, and supply a value of n if we want anything else:"
   ]
  },
  {
   "cell_type": "code",
   "execution_count": null,
   "metadata": {},
   "outputs": [],
   "source": [
    "print(nthRoot(4))# Should be 2\n",
    "print(nthRoot(9))# should be 3\n",
    "print(nthRoot(9, 3))# Still able to do other roots"
   ]
  },
  {
   "cell_type": "markdown",
   "metadata": {},
   "source": [
    "If you have some code that you want to apply several times, or re-use in another program, you should put it into a function. Using functions also makes it easier to figure out what is going wrong when you try to fix bugs in your code.\n",
    "\n",
    "Next we will tackle some plotting and data analysis tricks, and then make a start on image processing.\n",
    "\n",
    "# Plotting\n",
    "<a id=\"Plotting\"></a>\n",
    "Plotting in python is almost always done using the excellent matplotlib library. To use it we simply import the pyplot module from it. \n",
    "\n",
    "Python has a handy feature that allows us to import a module then rename it within our program. This can be really useful when a module has a long name. It is quite common to import `matplotlib.pyplot` as `plt` to save typing out the `matplotlib.pyplot` bit every time:"
   ]
  },
  {
   "cell_type": "code",
   "execution_count": 2,
   "metadata": {},
   "outputs": [],
   "source": [
    "import matplotlib.pyplot as plt"
   ]
  },
  {
   "cell_type": "markdown",
   "metadata": {},
   "source": [
    "When using matplotlib in a notebook, we have to tell it to run in inline node (otherwise it will put all plots in one figure). To do this, put the following line after importing matplotlib."
   ]
  },
  {
   "cell_type": "code",
   "execution_count": 3,
   "metadata": {},
   "outputs": [],
   "source": [
    "%matplotlib inline"
   ]
  },
  {
   "cell_type": "markdown",
   "metadata": {},
   "source": [
    "Now we're ready to plot!\n",
    "\n",
    "## A super-short primer on numpy\n",
    "<a id=\"NumpyQuickstart\"></a>\n",
    "\n",
    "The other library we will make extensive use of is the `numpy` library. Numpy is designed for numerical calculation, so it is ideal for a lot of image processing tasks. Importing numpy is as simple as:"
   ]
  },
  {
   "cell_type": "code",
   "execution_count": 4,
   "metadata": {},
   "outputs": [],
   "source": [
    "import numpy as np"
   ]
  },
  {
   "cell_type": "markdown",
   "metadata": {},
   "source": [
    "A primer on numpy is waaaay beyond the scope of this notebook. Reference material can be found [here](https://docs.scipy.org/doc/numpy/reference/), but may be a bit technical. \n",
    "\n",
    "An excellent resource for novice programmers is the [stackoverflow](http://stackoverflow.com/) site, where your question has almost certainly been asked before, and if it hasn't you can create an account and ask it yourself.\n",
    "\n",
    "Numpy arrays are quite different to the other data structures, so we should look at them a little bit.\n",
    "\n",
    "Numpy arrays can only have one data type which is inferred fron what it is given. One way to generate a numpy array is from a normal Python list:"
   ]
  },
  {
   "cell_type": "code",
   "execution_count": null,
   "metadata": {},
   "outputs": [],
   "source": [
    "anArray = np.array([1,2,3])\n",
    "print(type(anArray), anArray.dtype)"
   ]
  },
  {
   "cell_type": "markdown",
   "metadata": {},
   "source": [
    "Arithmetic on numpy arrays works element-wise in the way you would probably expect:"
   ]
  },
  {
   "cell_type": "code",
   "execution_count": null,
   "metadata": {},
   "outputs": [],
   "source": [
    "arrayOfTwos = np.array([2,2,2,2])\n",
    "print(arrayOfTwos)\n",
    "\n",
    "# Multiply by 2:\n",
    "print(arrayOfTwos * 2)\n",
    "\n",
    "# Add 3\n",
    "print(arrayOfTwos + 3)\n",
    "\n",
    "# Even compound operators work\n",
    "print(arrayOfTwos)\n",
    "arrayOfTwos /= 2\n",
    "print(arrayOfTwos)"
   ]
  },
  {
   "cell_type": "markdown",
   "metadata": {},
   "source": [
    "Arrays can be multiplied together, so long as they have the same shape\n"
   ]
  },
  {
   "cell_type": "code",
   "execution_count": null,
   "metadata": {},
   "outputs": [],
   "source": [
    "# Create an array of threes:\n",
    "arrayOfThrees = np.array(5*[3])# There is a better way to do this\n",
    "\n",
    "# Create another array counting up from 1 to 5\n",
    "countUp = np.arange(1, 6)# This is the numpy version of the range() function - it is much better\n",
    "\n",
    "print(arrayOfThrees * countUp)\n"
   ]
  },
  {
   "cell_type": "markdown",
   "metadata": {},
   "source": [
    "Part of what makes numpy useful for image processing is that it can easily handle multi-dimensional arrays, for example:\n"
   ]
  },
  {
   "cell_type": "code",
   "execution_count": null,
   "metadata": {},
   "outputs": [],
   "source": [
    "# Use a numpy function to make a 4x4 identity matrix:\n",
    "identity = np.eye(4)\n",
    "print(identity)"
   ]
  },
  {
   "cell_type": "markdown",
   "metadata": {},
   "source": [
    "Numpy can even create arrays of random numbers with any shape"
   ]
  },
  {
   "cell_type": "code",
   "execution_count": null,
   "metadata": {},
   "outputs": [],
   "source": [
    "# Create a 4x4x4 array of random numbers\n",
    "randArray = np.random.rand(4,4,4)\n",
    "# print(randArray) # uncomment this for a bunch of random numbers!"
   ]
  },
  {
   "cell_type": "markdown",
   "metadata": {},
   "source": [
    "## Array Indexing\n",
    "Numpy allows you to do some pretty cool tricks with array access:"
   ]
  },
  {
   "cell_type": "code",
   "execution_count": null,
   "metadata": {},
   "outputs": [],
   "source": [
    "print(\"Print all numbers in the nth slice of an image:\")\n",
    "print(randArray[:,:,2])# Change the 2 to something else to see what happens\n",
    "\n",
    "print(\"Print every other slice\")\n",
    "print(randArray[::2])# Try changing the 2 here too!\n"
   ]
  },
  {
   "cell_type": "markdown",
   "metadata": {},
   "source": [
    "There are a lot of other things you can do, which this notebook will not go into. There is a whole huge article on array indexing in the numpy manual [here](https://docs.scipy.org/doc/numpy/reference/arrays.indexing.html)"
   ]
  },
  {
   "cell_type": "markdown",
   "metadata": {},
   "source": [
    "Now we understand arrays a bit better, we can do a little plotting.\n",
    "\n",
    "## Example: Plotting the sin$^4$ function\n",
    "<a id=\"Sin4Example\"></a>\n",
    "\n",
    "The sin$^4$ function is sometimes used as an approximation to breathing motion, and might be interesting to look at. First we create a set of points linearly spaced between two endpoints, then calculate and plot the `sin` of the numbers."
   ]
  },
  {
   "cell_type": "code",
   "execution_count": 5,
   "metadata": {},
   "outputs": [
    {
     "data": {
      "text/plain": [
       "[<matplotlib.lines.Line2D at 0x1e7ff8e9fd0>]"
      ]
     },
     "execution_count": 5,
     "metadata": {},
     "output_type": "execute_result"
    },
    {
     "data": {
      "image/png": "[encoded data removed]",
      "text/plain": [
       "<Figure size 432x288 with 1 Axes>"
      ]
     },
     "metadata": {
      "needs_background": "light"
     },
     "output_type": "display_data"
    }
   ],
   "source": [
    "# Create a 1024 length array of numbers between 0 and 2 pi\n",
    "N = 1024\n",
    "xValues = np.linspace(0, 2.0*np.pi, N, endpoint=True)# \n",
    "sinValues = np.sin(xValues)# Note: numpy knows how to handle arrays!\n",
    "\n",
    "# Now plot the data - simple x-y line plot\n",
    "plt.plot(xValues, sinValues)\n"
   ]
  },
  {
   "cell_type": "markdown",
   "metadata": {},
   "source": [
    "You should see a nice sin curve above. Using what you know about python:\n",
    "1. Plot a sin$^4$ function over the same range\n",
    "2. Add a phase argument to the sin$^4$ function, and plot it alongside the original\n",
    "3. Add some random noise to the sin$^4$ function."
   ]
  },
  {
   "cell_type": "code",
   "execution_count": 7,
   "metadata": {},
   "outputs": [
    {
     "data": {
      "text/plain": [
       "[<matplotlib.lines.Line2D at 0x1e7ff9f4ee0>]"
      ]
     },
     "execution_count": 7,
     "metadata": {},
     "output_type": "execute_result"
    },
    {
     "data": {
      "image/png": "[encoded data removed]",
      "text/plain": [
       "<Figure size 432x288 with 1 Axes>"
      ]
     },
     "metadata": {
      "needs_background": "light"
     },
     "output_type": "display_data"
    }
   ],
   "source": [
    "# Plotting a sin^4 curve\n",
    "\n",
    "# Recall the exponentiation operator in python? Use it to convert your sin data to sin^4 data\n",
    "\n",
    "sin4 = sinValues ** 4\n",
    "\n",
    "# Now plot it in a new plot\n",
    "\n",
    "plt.plot(xValues, sin4)"
   ]
  },
  {
   "cell_type": "code",
   "execution_count": null,
   "metadata": {},
   "outputs": [],
   "source": [
    "# Adding phase to the sin^4 curve.\n",
    "\n",
    "# Phase is just a constant offset in time, so we can emulate it by adding a constant to the x values used to \n",
    "# create the sin data\n",
    "\n",
    "sinWithPhase = np.sin(xValues + np.pi/3)\n",
    "sin4WithPhase = sinWithPhase ** 4\n",
    "\n",
    "# Now plot the two together:\n",
    "plt.plot(xValues, sin4)\n",
    "plt.plot(xValues, sin4WithPhase)"
   ]
  },
  {
   "cell_type": "code",
   "execution_count": 8,
   "metadata": {},
   "outputs": [
    {
     "data": {
      "text/plain": [
       "[<matplotlib.lines.Line2D at 0x1e7ffa92bb0>]"
      ]
     },
     "execution_count": 8,
     "metadata": {},
     "output_type": "execute_result"
    },
    {
     "data": {
      "image/png": "[encoded data removed]",
      "text/plain": [
       "<Figure size 432x288 with 1 Axes>"
      ]
     },
     "metadata": {
      "needs_background": "light"
     },
     "output_type": "display_data"
    },
    {
     "data": {
      "image/png": "[encoded data removed]",
      "text/plain": [
       "<Figure size 432x288 with 1 Axes>"
      ]
     },
     "metadata": {
      "needs_background": "light"
     },
     "output_type": "display_data"
    }
   ],
   "source": [
    "# Adding random noise to a signal.\n",
    "\n",
    "# We know about the numpy.random.rand function, so we could try using that:\n",
    "sinWithNoise = sin4 + np.random.rand(sin4.shape[0])\n",
    "plt.plot(xValues, sinWithNoise)\n",
    "\n",
    "# This probably isn't very realistic though. Lets use Gaussian random noise\n",
    "sinWithRealNoise = sin4 + np.random.normal(loc=0.0, scale=0.1, size=sin4.shape[0])\n",
    "\n",
    "plt.figure()# Put it in a new figure\n",
    "plt.plot(xValues, sinWithRealNoise)"
   ]
  },
  {
   "cell_type": "markdown",
   "metadata": {},
   "source": [
    "# Filtering Signals\n",
    "<a id=\"FilteringSignals\"></a>\n",
    "Taking noise out of a signal is done using some kind of filter, or smoothing window. There are a lot of possible smoothing windows and you should choose one that is well suited to the job you're trying to do. \n",
    "\n",
    "To apply a smoothing window, we use a mathematical technique called convolution. Convolution takes two functions and looks at the extent to which they overlap. Fortunately, you can do numerical convolution using numpy!\n",
    "\n",
    "The very simplest smoothing window is the moving averages window, which is essentially a convolution with a top hat function:"
   ]
  },
  {
   "cell_type": "code",
   "execution_count": 35,
   "metadata": {},
   "outputs": [
    {
     "data": {
      "text/plain": [
       "[<matplotlib.lines.Line2D at 0x1e7ffe85610>]"
      ]
     },
     "execution_count": 35,
     "metadata": {},
     "output_type": "execute_result"
    },
    {
     "data": {
      "image/png": "[encoded data removed]",
      "text/plain": [
       "<Figure size 432x288 with 1 Axes>"
      ]
     },
     "metadata": {
      "needs_background": "light"
     },
     "output_type": "display_data"
    }
   ],
   "source": [
    "# Moving averages window function\n",
    "N = int(xValues.shape[0]/32) # Try changing the window width to see the effect on the filtered signal\n",
    "window = np.ones(N)*(1/3002)\n",
    "convolved = np.convolve(window/window.sum(), sinWithRealNoise, mode='same')# Note - divide by the sum of the window to \n",
    "                                                                        #    maintain normalisation\n",
    "plt.plot(xValues, convolved)\n",
    "plt.plot(xValues, sin4, linewidth=2)\n"
   ]
  },
  {
   "cell_type": "markdown",
   "metadata": {},
   "source": [
    "More complicated windows can be constructed and applied. There is a decent list of windows on [Wikipedia](https://en.wikipedia.org/wiki/Window_function), from where you could try implementing a few of the others. Below I've implemented a Hamming window (not to be confused with a Hanning window!), Sin window and Nuttall Window."
   ]
  },
  {
   "cell_type": "code",
   "execution_count": 18,
   "metadata": {},
   "outputs": [
    {
     "data": {
      "text/plain": [
       "[<matplotlib.lines.Line2D at 0x1e7ffc11910>]"
      ]
     },
     "execution_count": 18,
     "metadata": {},
     "output_type": "execute_result"
    },
    {
     "data": {
      "image/png": "[encoded data removed]",
      "text/plain": [
       "<Figure size 432x288 with 1 Axes>"
      ]
     },
     "metadata": {
      "needs_background": "light"
     },
     "output_type": "display_data"
    }
   ],
   "source": [
    "# Hamming window\n",
    "alpha = 0.54\n",
    "beta = 1.0 - alpha\n",
    "N = xValues.shape[0]\n",
    "HW = np.array([2.0*np.pi*i / (N-1) for i in range(0, N)])\n",
    "hwConvolved = np.convolve(HW/HW.sum(), sinWithRealNoise, mode='same')\n",
    "plt.plot(xValues, hwConvolved)\n",
    "plt.plot(xValues, sin4, linewidth=2)"
   ]
  },
  {
   "cell_type": "code",
   "execution_count": 20,
   "metadata": {},
   "outputs": [
    {
     "data": {
      "text/plain": [
       "[<matplotlib.lines.Line2D at 0x1e7ffcc2be0>]"
      ]
     },
     "execution_count": 20,
     "metadata": {},
     "output_type": "execute_result"
    },
    {
     "data": {
      "image/png": "[encoded data removed]",
      "text/plain": [
       "<Figure size 432x288 with 1 Axes>"
      ]
     },
     "metadata": {
      "needs_background": "light"
     },
     "output_type": "display_data"
    }
   ],
   "source": [
    "# Sin window\n",
    "N = xValues.shape[0]\n",
    "SW = np.sin(np.array([np.pi*i / (N-1) for i in range(0, N)]))\n",
    "sinConvolved = np.convolve(SW/SW.sum(), sinWithRealNoise, mode='same')\n",
    "plt.plot(xValues, sinConvolved)\n",
    "plt.plot(xValues, sin4, linewidth=2)"
   ]
  },
  {
   "cell_type": "code",
   "execution_count": 21,
   "metadata": {},
   "outputs": [
    {
     "data": {
      "text/plain": [
       "[<matplotlib.lines.Line2D at 0x1e7ffd2a520>]"
      ]
     },
     "execution_count": 21,
     "metadata": {},
     "output_type": "execute_result"
    },
    {
     "data": {
      "image/png": "[encoded data removed]",
      "text/plain": [
       "<Figure size 432x288 with 1 Axes>"
      ]
     },
     "metadata": {
      "needs_background": "light"
     },
     "output_type": "display_data"
    }
   ],
   "source": [
    "# Nuttall window\n",
    "a0 = 0.355768\n",
    "a1 = 0.487396\n",
    "a2 = 0.144232\n",
    "a3 = 0.012604\n",
    "\n",
    "N = xValues.shape[0]\n",
    "windowValues = np.array([np.pi*i / (N-1) for i in range(0, N)])\n",
    "NW = a0 + a1*np.cos(2.0*windowValues) + a2*np.cos(4.0*windowValues) - a3*np.cos(6.0*windowValues)\n",
    "nuttallConvolved = np.convolve(NW/NW.sum(), sinWithRealNoise, mode='same')\n",
    "plt.plot(xValues, nuttallConvolved)\n",
    "plt.plot(xValues, sin4, linewidth=2)"
   ]
  },
  {
   "cell_type": "markdown",
   "metadata": {},
   "source": [
    "# Peak Finding\n",
    "<a id=\"PeakFinding\"></a>\n",
    "Now you have smoothed your data, you can try to find some peaks in it. The manual way to do this is quite simple:\n"
   ]
  },
  {
   "cell_type": "code",
   "execution_count": 12,
   "metadata": {},
   "outputs": [
    {
     "ename": "NameError",
     "evalue": "name 'hwConvolved' is not defined",
     "output_type": "error",
     "traceback": [
      "\u001b[1;31m---------------------------------------------------------------------------\u001b[0m",
      "\u001b[1;31mNameError\u001b[0m                                 Traceback (most recent call last)",
      "\u001b[1;32m<ipython-input-12-cd287b0c0811>\u001b[0m in \u001b[0;36m<module>\u001b[1;34m\u001b[0m\n\u001b[0;32m      1\u001b[0m \u001b[1;31m# Lets use the version filtered with the Hamming window\u001b[0m\u001b[1;33m\u001b[0m\u001b[1;33m\u001b[0m\u001b[1;33m\u001b[0m\u001b[0m\n\u001b[1;32m----> 2\u001b[1;33m \u001b[0mplt\u001b[0m\u001b[1;33m.\u001b[0m\u001b[0mplot\u001b[0m\u001b[1;33m(\u001b[0m\u001b[0mxValues\u001b[0m\u001b[1;33m,\u001b[0m \u001b[0mhwConvolved\u001b[0m\u001b[1;33m)\u001b[0m\u001b[1;33m\u001b[0m\u001b[1;33m\u001b[0m\u001b[0m\n\u001b[0m\u001b[0;32m      3\u001b[0m \u001b[0mplt\u001b[0m\u001b[1;33m.\u001b[0m\u001b[0mplot\u001b[0m\u001b[1;33m(\u001b[0m\u001b[0mxValues\u001b[0m\u001b[1;33m,\u001b[0m \u001b[0msin4\u001b[0m\u001b[1;33m,\u001b[0m \u001b[0mlinewidth\u001b[0m\u001b[1;33m=\u001b[0m\u001b[1;36m2\u001b[0m\u001b[1;33m)\u001b[0m\u001b[1;33m\u001b[0m\u001b[1;33m\u001b[0m\u001b[0m\n\u001b[0;32m      4\u001b[0m \u001b[1;33m\u001b[0m\u001b[0m\n\u001b[0;32m      5\u001b[0m \u001b[1;31m# This tells us the maximum value, and its location in the array\u001b[0m\u001b[1;33m\u001b[0m\u001b[1;33m\u001b[0m\u001b[1;33m\u001b[0m\u001b[0m\n",
      "\u001b[1;31mNameError\u001b[0m: name 'hwConvolved' is not defined"
     ]
    }
   ],
   "source": [
    "# Lets use the version filtered with the Hamming window\n",
    "plt.plot(xValues, hwConvolved)\n",
    "plt.plot(xValues, sin4, linewidth=2)\n",
    "\n",
    "# This tells us the maximum value, and its location in the array\n",
    "print(np.max(hwConvolved), np.argmax(hwConvolved))# Two useful functions!\n",
    "\n",
    "# We will now try to resolve each peak in the data (there should only be two)\n",
    "# It is usual to use a threshold, we will set ours to 75% of the maximum value in the data\n",
    "threshold = 0.75 * np.max(hwConvolved)\n",
    "# Delta is a parameter used to distingush peaks - we require that a peak be at least delta bigger than its surroundings\n",
    "delta = 0.1\n",
    "\n",
    "# Make some variables to hold the peak information\n",
    "maxtab = []\n",
    "mx =-np.inf\n",
    "mxpos = np.nan\n",
    "\n",
    "for i in np.arange(len(hwConvolved)):\n",
    "    this = hwConvolved[i]\n",
    "    \n",
    "    if this < threshold:# Skip points below the threshold\n",
    "        continue\n",
    "        \n",
    "    if this > mx:\n",
    "        mx = this\n",
    "        mxpos = xValues[i]# This position is greater than the previous max, so might be a peak!\n",
    "        \n",
    "    if this < mx-delta:# Make sure we are larger than the peak by some amount\n",
    "        if not (mxpos, mx) in maxtab:\n",
    "            maxtab.append((mxpos, mx))# If we haven't already, record this peak\n",
    "        mn = this\n",
    "        mnpos = xValues[i]\n",
    "        \n",
    "plt.plot(np.array(maxtab)[:,0], np.array(maxtab)[:,1], color='red', linewidth=0, marker='.', markersize=10)"
   ]
  },
  {
   "cell_type": "markdown",
   "metadata": {},
   "source": [
    "We could even wrap all this up into a function so it can be re-used:"
   ]
  },
  {
   "cell_type": "code",
   "execution_count": null,
   "metadata": {
    "collapsed": true
   },
   "outputs": [],
   "source": [
    "def peakFind(xData, yData, thresholdFrac=0.75, deltaFrac=0.1, convolvedData=False):\n",
    "    \"\"\"\n",
    "    \"\"\"\n",
    "    #First we smooth the data by applying a hamming window.\n",
    "    alpha = 0.54\n",
    "    beta = 1.0 - alpha\n",
    "    N = xData.shape[0]/32\n",
    "    HW = np.array([2.0*np.pi*i / (N-1) for i in range(0, N)])\n",
    "    yDataConvolved = np.convolve(HW/HW.sum(), yData, mode='same')\n",
    "    \n",
    "    # Now we run the peak detection algorithm over the smoothed data\n",
    "    maxtab = []\n",
    "    mx =-np.inf\n",
    "    mxpos = np.nan\n",
    "    \n",
    "    threshold = thresholdFrac * np.max(yDataConvolved)\n",
    "    delta = deltaFrac #* np.max(yData)\n",
    "\n",
    "    for i in np.arange(len(yDataConvolved)):\n",
    "        this = yDataConvolved[i]\n",
    "\n",
    "        if this < threshold:# Skip points below the threshold\n",
    "            continue\n",
    "\n",
    "        if this > mx:\n",
    "            mx = this\n",
    "            mxpos = xValues[i]# This position is greater than the previous max, so might be a peak!\n",
    "\n",
    "        if this < mx-delta:# Make sure we are larger than the peak by some amount\n",
    "            if not (mxpos, mx) in maxtab:\n",
    "                maxtab.append((mxpos, mx))# If we haven't already, record this peak\n",
    "    if convolvedData:\n",
    "        return (maxtab, yDataConvolved)\n",
    "    return maxtab"
   ]
  },
  {
   "cell_type": "code",
   "execution_count": null,
   "metadata": {},
   "outputs": [],
   "source": [
    "# Now use the peak finder on some noisy data\n",
    "\n",
    "peaks, yCData = peakFind(xValues, sinWithRealNoise, convolvedData=True)\n",
    "print(peaks)\n",
    "\n",
    "\n",
    "plt.plot(xValues, yCData)\n",
    "plt.plot(np.array(peaks)[:,0], np.array(peaks)[:,1], color='red', linewidth=0, marker='.', markersize=10)\n",
    "plt.plot(xValues, sin4, linewidth=2)\n",
    "\n",
    "\n",
    "%timeit peakFind(xValues, sinWithRealNoise)"
   ]
  },
  {
   "cell_type": "markdown",
   "metadata": {},
   "source": [
    "You should now be more than able to tackle the next notebook, in which real physiological data is supplied for you to work with"
   ]
  }
 ],
 "metadata": {
  "kernelspec": {
   "display_name": "Python 3",
   "language": "python",
   "name": "python3"
  },
  "language_info": {
   "codemirror_mode": {
    "name": "ipython",
    "version": 3
   },
   "file_extension": ".py",
   "mimetype": "text/x-python",
   "name": "python",
   "nbconvert_exporter": "python",
   "pygments_lexer": "ipython3",
   "version": "3.8.5"
  }
 },
 "nbformat": 4,
 "nbformat_minor": 1
}
