{
 "cells": [
  {
   "cell_type": "markdown",
   "metadata": {},
   "source": [
    "# Basic Python: Assignment 1\n",
    "\n",
    "In this notebook, you have to fill in the missing code (or fix buggy code) to do some basic programming tasks. The idea is you should be able to finish these pretty quickly, and get an idea for how python and the notebook system works. When we do more complex stuff (i.e. tomorrow), we will move to using scripts rather than notebooks.\n",
    "\n",
    "## Task 1\n",
    "In this directory is a file called \"Files.txt\". It contains a list of file names, each of which is contained in the directory \"files\". A few files are missing because a cat walked over the keyboard during the file copy procedue. Which files are missing?\n",
    "\n",
    "## Task 2\n",
    "Load the data from the files that are available so that the value inside each file can be quickly found from an integer file ID key. The values are floating point numbers. \n",
    "\n",
    "## Task 3 \n",
    "Produce a histogram of the data. Play around with the number of bins until it looks nice. Try some of the other options like normalisation. Label your axes!\n"
   ]
  },
  {
   "cell_type": "code",
   "execution_count": 3,
   "metadata": {},
   "outputs": [],
   "source": [
    "%matplotlib inline "
   ]
  },
  {
   "cell_type": "markdown",
   "metadata": {},
   "source": [
    "# Task 1"
   ]
  },
  {
   "cell_type": "code",
   "execution_count": 34,
   "metadata": {
    "scrolled": true
   },
   "outputs": [
    {
     "ename": "FileNotFoundError",
     "evalue": "[Errno 2] No such file or directory: 'Files.txt'",
     "output_type": "error",
     "traceback": [
      "\u001b[1;31m---------------------------------------------------------------------------\u001b[0m",
      "\u001b[1;31mFileNotFoundError\u001b[0m                         Traceback (most recent call last)",
      "\u001b[1;32m<ipython-input-34-d569a3699f23>\u001b[0m in \u001b[0;36m<module>\u001b[1;34m\u001b[0m\n\u001b[0;32m     15\u001b[0m \u001b[1;31m# For reference, the open command takes two arguments, a file name and an 'open mode' which may be 'r', 'w' or 'a'\u001b[0m\u001b[1;33m\u001b[0m\u001b[1;33m\u001b[0m\u001b[1;33m\u001b[0m\u001b[0m\n\u001b[0;32m     16\u001b[0m \u001b[1;31m# Thise mean 'r'ead, 'w'rite and 'a'ppend\u001b[0m\u001b[1;33m\u001b[0m\u001b[1;33m\u001b[0m\u001b[1;33m\u001b[0m\u001b[0m\n\u001b[1;32m---> 17\u001b[1;33m \u001b[1;32mwith\u001b[0m \u001b[0mopen\u001b[0m\u001b[1;33m(\u001b[0m\u001b[1;34m\"Files.txt\"\u001b[0m\u001b[1;33m,\u001b[0m \u001b[1;34m'r'\u001b[0m\u001b[1;33m)\u001b[0m \u001b[1;32mas\u001b[0m \u001b[0mfileList\u001b[0m\u001b[1;33m:\u001b[0m\u001b[1;33m\u001b[0m\u001b[1;33m\u001b[0m\u001b[0m\n\u001b[0m\u001b[0;32m     18\u001b[0m     \u001b[0mexpectedFiles\u001b[0m\u001b[1;33m.\u001b[0m\u001b[0mappend\u001b[0m\u001b[1;33m(\u001b[0m\u001b[0mfileList\u001b[0m\u001b[1;33m.\u001b[0m\u001b[0mread\u001b[0m\u001b[1;33m(\u001b[0m\u001b[1;33m)\u001b[0m\u001b[1;33m)\u001b[0m\u001b[1;33m\u001b[0m\u001b[1;33m\u001b[0m\u001b[0m\n\u001b[0;32m     19\u001b[0m \u001b[1;33m\u001b[0m\u001b[0m\n",
      "\u001b[1;31mFileNotFoundError\u001b[0m: [Errno 2] No such file or directory: 'Files.txt'"
     ]
    }
   ],
   "source": [
    "# You need to get a list of the files in the directory \"files\"\n",
    "# You then need to compare it against a list generated from the \"Files.txt\" file.\n",
    "# Every pair of students has a unique set of files!\n",
    "# You will need a library to list the files in the directory\n",
    "\n",
    "\n",
    "# Here, import a library to list the files:\n",
    "import os\n",
    "\n",
    "# Open the file containing the list of patients and read it into a list, one line at a time\n",
    "\n",
    "expectedFiles = [] # Start with an empty list\n",
    "\n",
    "# This is a handy way to make sure the file is closed when you're done with it.\n",
    "# For reference, the open command takes two arguments, a file name and an 'open mode' which may be 'r', 'w' or 'a' \n",
    "# Thise mean 'r'ead, 'w'rite and 'a'ppend\n",
    "with open(\"Files.txt\", 'r') as fileList:\n",
    "    expectedFiles.append(fileList.read())\n",
    "\n",
    "    \n",
    "# Now you have a list of files read from the file, you just need to work out which ones are missing.\n",
    "# First of all, get a list of files in the directory (using a library function)\n",
    "\n",
    "actualFiles = os.listdir(\"files\") \n",
    "\n",
    "# Now you have two lists, you can compare them to find which files are not in the directory\n",
    "for file in expectedFiles:\n",
    "    if file not in actualFiles:\n",
    "        print(\"the file\", file, \"is not in the directory\")\n",
    "\n"
   ]
  },
  {
   "cell_type": "markdown",
   "metadata": {},
   "source": [
    "# Task 2\n"
   ]
  },
  {
   "cell_type": "code",
   "execution_count": 37,
   "metadata": {},
   "outputs": [],
   "source": [
    "# Now you have your file list, you can loop over it to load them\n",
    "# Think about which data structure is appropriate to meet the goal of the task\n",
    "# Bonus: this can be done in a single line!\n",
    "\n",
    "# Hint: Remember that the file names are just strings, and strings have some methods you may be able to use...\n",
    "# Hint: Look at the code used to read files in the previous task - you could repurpose that...\n",
    "# Hint: Remember that you can change a string into an integer by calling int() on it (provided it is all numbers).\n",
    "\n",
    "values=[]\n",
    "#os.chdir(\"files\")\n",
    "# you will need a for loop to go over the actualFiles list\n",
    "for aFile in actualFiles:\n",
    "    obj=open(aFile,'r')\n",
    "    obj_no_lines=obj.read().replace(\"\\n\",\"\")\n",
    "    values.append(float(obj_no_lines))\n",
    "    \n",
    "\n",
    "\n",
    "\n"
   ]
  },
  {
   "cell_type": "markdown",
   "metadata": {},
   "source": [
    "# Task 3"
   ]
  },
  {
   "cell_type": "code",
   "execution_count": 43,
   "metadata": {},
   "outputs": [
    {
     "data": {
      "image/png": "[encoded data removed]",
      "text/plain": [
       "<Figure size 432x288 with 1 Axes>"
      ]
     },
     "metadata": {
      "needs_background": "light"
     },
     "output_type": "display_data"
    }
   ],
   "source": [
    "# You will need to import a library to produce the histogram.\n",
    "# Check the documentation to see which functions you need, and what arguments they take.\n",
    "\n",
    "# Import a library\n",
    "import matplotlib.pyplot as plt \n",
    "\n",
    "# Now create the histogram \n",
    "plt.hist(values,bins=100)\n",
    "plt.xlabel(\"File ID key\")\n",
    "plt.ylabel(\"Frequency\")\n",
    "plt.show()\n",
    "\n",
    "\n",
    "\n",
    "\n"
   ]
  },
  {
   "cell_type": "code",
   "execution_count": null,
   "metadata": {},
   "outputs": [],
   "source": []
  }
 ],
 "metadata": {
  "kernelspec": {
   "display_name": "Python 3",
   "language": "python",
   "name": "python3"
  },
  "language_info": {
   "codemirror_mode": {
    "name": "ipython",
    "version": 3
   },
   "file_extension": ".py",
   "mimetype": "text/x-python",
   "name": "python",
   "nbconvert_exporter": "python",
   "pygments_lexer": "ipython3",
   "version": "3.8.5"
  }
 },
 "nbformat": 4,
 "nbformat_minor": 1
}
