{
 "cells": [
  {
   "cell_type": "markdown",
   "metadata": {},
   "source": [
    "# Introduction to image processing in Python\n",
    "#### 25th January 2017\n",
    "\n",
    "Today we are going to look at some image processing. We will be learning how to import images and manipulate them.\n",
    "\n",
    "You will be able to follow along with this workbook.\n",
    "\n",
    "Feel free to experiment to understand how these functions work.\n"
   ]
  },
  {
   "cell_type": "markdown",
   "metadata": {},
   "source": [
    "Let's start by loading in the libraries that we will need"
   ]
  },
  {
   "cell_type": "code",
   "execution_count": null,
   "metadata": {},
   "outputs": [],
   "source": [
    "import numpy as np\n",
    "import matplotlib.pyplot as plt\n",
    "from skimage import io\n",
    "from skimage.transform import resize"
   ]
  },
  {
   "cell_type": "markdown",
   "metadata": {},
   "source": [
    "This first line makes sure our images are displayed within this notebook instead of a separate window. The second line sets makes the images bigger than the default size - don't worry about these."
   ]
  },
  {
   "cell_type": "code",
   "execution_count": null,
   "metadata": {},
   "outputs": [],
   "source": [
    "%matplotlib inline\n",
    "plt.rcParams['figure.figsize'] = (16.0, 12.0)"
   ]
  },
  {
   "cell_type": "markdown",
   "metadata": {},
   "source": [
    "We can load in our first image like this:\n",
    "\n",
    "https://scikit-image.org/docs/dev/api/skimage.io.html#skimage.io.imread"
   ]
  },
  {
   "cell_type": "code",
   "execution_count": null,
   "metadata": {},
   "outputs": [],
   "source": [
    "image = io.imread(\"bird.jpg\")"
   ]
  },
  {
   "cell_type": "markdown",
   "metadata": {},
   "source": [
    "Because it is in the current directory we can just write the name of the image file in the argument. If the image was somewhere else we would specify the full path to the image.\n"
   ]
  },
  {
   "cell_type": "markdown",
   "metadata": {},
   "source": [
    "\n",
    "Let's display this image. We can do this using a function from the matplotlib.pyplot library. Remember, because the function belongs to the library we have to specify the library as we imported it. \n",
    "\n",
    "imshow will display the image on some axes.\n",
    "\n",
    "http://matplotlib.org/api/pyplot_api.html#matplotlib.pyplot.imshow\n",
    "\n",
    "show will display the figure.\n",
    "\n",
    "http://matplotlib.org/api/pyplot_api.html#matplotlib.pyplot.show"
   ]
  },
  {
   "cell_type": "code",
   "execution_count": null,
   "metadata": {},
   "outputs": [],
   "source": [
    "plt.imshow(image)\n",
    "plt.show()"
   ]
  },
  {
   "cell_type": "markdown",
   "metadata": {},
   "source": [
    "#### Print out the variable 'image' in the cell below.\n",
    "Why does it look like this?"
   ]
  },
  {
   "cell_type": "code",
   "execution_count": null,
   "metadata": {},
   "outputs": [],
   "source": [
    "print(image)"
   ]
  },
  {
   "cell_type": "markdown",
   "metadata": {},
   "source": [
    "What is the size of the array?"
   ]
  },
  {
   "cell_type": "code",
   "execution_count": null,
   "metadata": {},
   "outputs": [],
   "source": [
    "print(image.shape)"
   ]
  },
  {
   "cell_type": "markdown",
   "metadata": {},
   "source": [
    "What is the variable type?"
   ]
  },
  {
   "cell_type": "code",
   "execution_count": null,
   "metadata": {},
   "outputs": [],
   "source": [
    "print(image.dtype)"
   ]
  },
  {
   "cell_type": "markdown",
   "metadata": {},
   "source": [
    "Let's make a copy of this array. \n",
    "\n",
    "Assignment statments like B = A do not copy the object but create a binding between the object and the target so that changes to B will also make changes to A. Sometimes we need to use \"copy\" instead so that we can change one object without changing the other. In this case B = A.copy()\n",
    "\n",
    "If we were using a list instead of an array we could say B = A[:]\n",
    "\n",
    "You can try this out in the cell below:"
   ]
  },
  {
   "cell_type": "code",
   "execution_count": null,
   "metadata": {},
   "outputs": [],
   "source": [
    "a = np.array([1,2,3])\n",
    "b = a\n",
    "b[1] = 5\n",
    "print(\"a = {}, b = {}\".format(a, b))\n",
    "\n",
    "c = np.array([1,2,3])\n",
    "d = c.copy()\n",
    "d[1] = 5\n",
    "print(\"c = {}, d = {}\".format(c, d))\n",
    "\n",
    "e = [1,2,3]\n",
    "f = e[:]\n",
    "f[1] = 5\n",
    "print(\"e = {}, f = {}\".format(e, f))"
   ]
  },
  {
   "cell_type": "markdown",
   "metadata": {},
   "source": [
    "Back to copying our array. Let's copy our image to a new array called \"blue_image\".\n",
    "\n",
    "We will make some changes to some of the values in our new array. What affect does this have?"
   ]
  },
  {
   "cell_type": "code",
   "execution_count": null,
   "metadata": {},
   "outputs": [],
   "source": [
    "blue_image = image.copy()\n",
    "blue_image[:, :, 0] = 0\n",
    "\n",
    "blue_image[:, :, 1] = 0\n",
    "plt.imshow(blue_image)\n",
    "plt.show()"
   ]
  },
  {
   "cell_type": "markdown",
   "metadata": {},
   "source": [
    "Leave only the blue channel in this array.\n",
    "\n",
    "Now, do something similar to generate a green image and a red image."
   ]
  },
  {
   "cell_type": "code",
   "execution_count": null,
   "metadata": {},
   "outputs": [],
   "source": [
    "#green_image = image.copy()\n",
    "#green_image[:, :, 0] = 0\n",
    "#green_image[:, :, 2] = 0\n",
    "\n",
    "#red_image = image.copy()\n",
    "#red_image[:, :, 1] = 0\n",
    "#red_image[:, :, 2] = 0"
   ]
  },
  {
   "cell_type": "markdown",
   "metadata": {},
   "source": [
    "#### Plot all of your images in 2x2 grid of subplots."
   ]
  },
  {
   "cell_type": "code",
   "execution_count": null,
   "metadata": {},
   "outputs": [],
   "source": [
    "fig = plt.figure()\n",
    "\n",
    "ax = fig.add_subplot(121)\n",
    "ax2 = fig.add_subplot(122)\n",
    "\n",
    "#ax3 = fig.add_subplot(223)\n",
    "#ax4 = fig.add_subplot(224)\n",
    "\n",
    "ax.imshow(image)\n",
    "ax2.imshow(blue_image)\n",
    "\n",
    "#ax3.imshow(blue_image)\n",
    "#ax4.imshow(green_image)\n",
    "\n",
    "plt.show()"
   ]
  },
  {
   "cell_type": "markdown",
   "metadata": {},
   "source": [
    "Instead, let's take the average value over our three colour channels.\n",
    "\n",
    "What does this look like?"
   ]
  },
  {
   "cell_type": "code",
   "execution_count": null,
   "metadata": {},
   "outputs": [],
   "source": [
    "mean_image = np.mean(image, -1)\n",
    "\n",
    "plt.imshow(mean_image)\n",
    "plt.show()"
   ]
  },
  {
   "cell_type": "markdown",
   "metadata": {},
   "source": [
    "In the cell above we applied the \"mean\" function to an array. The second argument gave the axis. In the example above \"-1\" refers to the last axis"
   ]
  },
  {
   "cell_type": "markdown",
   "metadata": {},
   "source": [
    "You can explore what this means using the array below:"
   ]
  },
  {
   "cell_type": "code",
   "execution_count": null,
   "metadata": {},
   "outputs": [],
   "source": [
    "#understanding mean applied to an axis\n",
    "\n",
    "a = np.linspace(0,24,25)\n",
    "a.shape=(5,5)\n",
    "print(a)\n"
   ]
  },
  {
   "cell_type": "markdown",
   "metadata": {},
   "source": [
    "What is the mean of the whole array?\n",
    "\n",
    "What is the mean along the 0th axis and 1st axis?"
   ]
  },
  {
   "cell_type": "code",
   "execution_count": null,
   "metadata": {},
   "outputs": [],
   "source": [
    "# np.mean(a)\n",
    "# np.mean(a,0)\n",
    "# np.mean(a,1)\n",
    "# np.mean(a,-1)"
   ]
  },
  {
   "cell_type": "markdown",
   "metadata": {},
   "source": [
    "We can flatten the image more easily using the keyword agument \"flatten\" like this:"
   ]
  },
  {
   "cell_type": "code",
   "execution_count": null,
   "metadata": {},
   "outputs": [],
   "source": [
    "image = io.imread(\"bird.jpg\",as_gray=True)"
   ]
  },
  {
   "cell_type": "markdown",
   "metadata": {},
   "source": [
    "Or we could extract just the red channel from an image like this:"
   ]
  },
  {
   "cell_type": "code",
   "execution_count": null,
   "metadata": {},
   "outputs": [],
   "source": [
    "image = io.imread(\"bird.jpg\")\n",
    "red_image = image[:,:,0]"
   ]
  },
  {
   "cell_type": "markdown",
   "metadata": {},
   "source": [
    "## Let's explore some colourmaps\n",
    "\n",
    "In this part we will look at different colourmaps.\n",
    "\n",
    "http://matplotlib.org/users/colormaps.html\n",
    "\n",
    "Load in the image \"warhol.jpg\". Make sure to flatten it.\n",
    "We can change the colourmap that is used by \"imshow\" using the keyword argument \"cmap\".\n",
    "\n",
    "We can also add the colourbar to the plot as shown below.\n",
    "\n",
    "http://matplotlib.org/api/pyplot_api.html#matplotlib.pyplot.colorbar\n",
    "\n",
    "The first argument of \"colorbar\" is the object to which the colourbar is applied.\n",
    "Here, we have set it to be one of the subplots.\n",
    "The \"ax\" keyword tells us which axes object (subplot) space will be stolen from in order to fit in the colourbar.\n",
    "\n",
    "#### Try some of these colourmaps:\n",
    "\n",
    "viridis, inferno, plasma, magma, Blues, BuGn, BuPu, GnBu, Greens, Greys, Oranges, OrRd, PuBu, PuBuGn, PuRd, Purples, RdPu, Reds, YlGn, YlGnBu, YlOrBr, YlOrRd, afmhot, autumn, bone, cool, copper, gist_heat, gray, hot, pink, spring, summer, winter, BrBG, bwr, coolwarm, PiYG, PRGn, PuOr, RdBu, RdGy, RdYlBu, RdYlGn, Spectral, seismic, Accent, Dark2, Paired, Pastel1, Pastel2, Set1, Set2, Set3, gist_earth, terrain, ocean, gist_stern, brg, CMRmap, cubehelix, gnuplot, gnuplot2, gist_ncar, nipy_spectral, jet, rainbow, gist_rainbow, hsv, flag, prism\n",
    "\n",
    "#### What happens if you put \"_r\" after the name?\n"
   ]
  },
  {
   "cell_type": "code",
   "execution_count": null,
   "metadata": {},
   "outputs": [],
   "source": [
    "im = io.imread(\"warhol.jpg\",as_gray=True)\n",
    "\n",
    "fig = plt.figure()\n",
    "ax = fig.add_subplot(221)\n",
    "ax2 = fig.add_subplot(222)\n",
    "ax3 = fig.add_subplot(223)\n",
    "ax4 = fig.add_subplot(224)\n",
    "\n",
    "cax = ax.imshow(im, cmap=\"Greys_r\")\n",
    "cax2 = ax2.imshow(im, cmap=\"afmhot\")\n",
    "cax3 = ax3.imshow(im, cmap=\"Reds\")\n",
    "cax4 = ax4.imshow(im, cmap=\"cool\")\n",
    "\n",
    "# cbar = fig.colorbar(cax, ax=ax)\n",
    "\n",
    "# cbar = fig.colorbar(cax2, ax=ax2)\n",
    "# cbar = fig.colorbar(cax3, ax=ax3)\n",
    "# cbar = fig.colorbar(cax4, ax=ax4)\n",
    "\n",
    "plt.show()"
   ]
  },
  {
   "cell_type": "markdown",
   "metadata": {},
   "source": [
    "## Let's make a stamp\n",
    "\n",
    "In this part we will make a stamp from a picture of the queen.\n",
    "\n",
    "You will learn about cropping images and flipping images.\n",
    "\n",
    "We will need:\n",
    "\n",
    "A picture of the queen - You can use the one here (thequeen.jpg) or find your own.... So it's not too easy you need to find one where she is facing in the wrong direction.\n",
    "\n",
    "Display your image below:\n"
   ]
  },
  {
   "cell_type": "code",
   "execution_count": null,
   "metadata": {},
   "outputs": [],
   "source": [
    "im = io.imread(\"thequeen.jpg\")\n",
    "plt.imshow(im)\n",
    "plt.show()"
   ]
  },
  {
   "cell_type": "markdown",
   "metadata": {},
   "source": [
    "We need to crop this image.\n",
    "We can select just the elements we want from the array"
   ]
  },
  {
   "cell_type": "code",
   "execution_count": null,
   "metadata": {},
   "outputs": [],
   "source": [
    "cropped = im[175:400, 50:350]\n",
    "\n",
    "plt.imshow(cropped)\n",
    "plt.show()"
   ]
  },
  {
   "cell_type": "markdown",
   "metadata": {},
   "source": [
    "The queen is still facing the wrong direction.\n",
    "We will need to flip the image.\n",
    "We can do this quite easily using the \"fliplr\" function from numpy. fliplr takes one argument which is the array.\n",
    "\n",
    "https://docs.scipy.org/doc/numpy-1.10.0/reference/generated/numpy.fliplr.html\n",
    "\n",
    "#### Flip the image and display it below.\n",
    "\n",
    "#### What does flipud do?"
   ]
  },
  {
   "cell_type": "code",
   "execution_count": null,
   "metadata": {},
   "outputs": [],
   "source": [
    "flipped = np.fliplr(cropped)\n",
    "plt.imshow(flipped)\n",
    "plt.show()"
   ]
  },
  {
   "cell_type": "markdown",
   "metadata": {},
   "source": [
    "Note: fliplr(A) is the same as saying A[:,::-1] which is like reading the array backwards\n",
    "\n",
    "How would you write flipud this way?"
   ]
  },
  {
   "cell_type": "markdown",
   "metadata": {},
   "source": [
    "#### Give this image a suitable colourmap and also add a border around the image by changing the value of these array elements."
   ]
  },
  {
   "cell_type": "code",
   "execution_count": null,
   "metadata": {},
   "outputs": [],
   "source": [
    "grey_queen = np.mean(flipped, -1)\n",
    "\n",
    "grey_queen[0:10, :] = 255\n",
    "grey_queen[:, 0:10] = 255\n",
    "\n",
    "lx, ly = grey_queen.shape\n",
    "\n",
    "grey_queen[lx - 10:lx, :] = 255\n",
    "grey_queen[:, ly - 10:ly] = 255\n",
    "\n",
    "plt.imshow(grey_queen, cmap=\"Reds_r\")\n",
    "plt.show()"
   ]
  },
  {
   "cell_type": "markdown",
   "metadata": {},
   "source": [
    "#### Display your original image and your stamp side by side."
   ]
  },
  {
   "cell_type": "code",
   "execution_count": null,
   "metadata": {},
   "outputs": [],
   "source": [
    "fig = plt.figure()\n",
    "ax = fig.add_subplot(121)\n",
    "ax2 = fig.add_subplot(122)\n",
    "\n",
    "ax.imshow(im)\n",
    "ax2.imshow(grey_queen, cmap=\"Reds_r\")\n",
    "plt.show()"
   ]
  },
  {
   "cell_type": "markdown",
   "metadata": {},
   "source": [
    "## A view to a kill\n"
   ]
  },
  {
   "cell_type": "markdown",
   "metadata": {},
   "source": [
    "In this part we will be recreating the iconic opening from James Bond.\n",
    "\n",
    "We will learn about shifting images and applying masks.\n",
    "\n",
    "To do this we will need to import a function from a different library.\n",
    "\n",
    "#### Import the interpolation function from scipy.ndimage\n",
    "\n",
    "https://docs.scipy.org/doc/scipy/reference/generated/scipy.ndimage.shift.html#scipy.ndimage.shift\n"
   ]
  },
  {
   "cell_type": "code",
   "execution_count": null,
   "metadata": {},
   "outputs": [],
   "source": [
    "from scipy.ndimage import interpolation"
   ]
  },
  {
   "cell_type": "markdown",
   "metadata": {},
   "source": [
    "#### Load in the image called \"bond.png\". Make sure you flatten the array.\n",
    "\n",
    "#### Display the image."
   ]
  },
  {
   "cell_type": "code",
   "execution_count": null,
   "metadata": {},
   "outputs": [],
   "source": [
    "im = io.imread(\"bond.png\", as_gray=True)\n",
    "\n",
    "plt.imshow(im,cmap=\"Greys_r\")\n",
    "plt.show()"
   ]
  },
  {
   "cell_type": "markdown",
   "metadata": {},
   "source": [
    "We need to put Bond in the centre of the image. To do this we will use the \"shift\" function that belongs to interpolation. The arguments to this function indicate the image that will be shifted, the shifts as a sequence giving the shift for each axis and information about how points outside the boundary of the image should be displayed.\n",
    "\n",
    "#### Try out the shift below and find the shift needed to put Bond in the centre of image."
   ]
  },
  {
   "cell_type": "code",
   "execution_count": null,
   "metadata": {},
   "outputs": [],
   "source": [
    "shifted_image = interpolation.shift(im, (60, -300), mode=\"nearest\")"
   ]
  },
  {
   "cell_type": "code",
   "execution_count": null,
   "metadata": {},
   "outputs": [],
   "source": [
    "plt.imshow(shifted_image,cmap=\"Greys_r\")\n",
    "plt.show()"
   ]
  },
  {
   "cell_type": "markdown",
   "metadata": {},
   "source": [
    "We are now going to create a mask for the image. Later on we will set everything covered by the mask to a certain value.\n",
    "\n",
    "Here we want to make a circular mask.\n",
    "\n",
    "How is this mask made? Print out some of the variables to get an idea.\n",
    "\n",
    "What are the values in the mask?\n",
    "\n",
    "Change some of the numbers to change the shape of the mask."
   ]
  },
  {
   "cell_type": "code",
   "execution_count": null,
   "metadata": {},
   "outputs": [],
   "source": [
    "lx, ly = shifted_image.shape\n",
    "X, Y = np.ogrid[0:lx, 0:ly]\n",
    "\n",
    "mask = (X - lx / 2) ** 2 + (Y - ly / 2) ** 2 > lx * ly / 4\n",
    "\n",
    "plt.imshow(mask)\n",
    "plt.show()"
   ]
  },
  {
   "cell_type": "markdown",
   "metadata": {},
   "source": [
    "Let's set all of the values covered by the mask to zero"
   ]
  },
  {
   "cell_type": "code",
   "execution_count": null,
   "metadata": {},
   "outputs": [],
   "source": [
    "shifted_image[mask] = 0"
   ]
  },
  {
   "cell_type": "markdown",
   "metadata": {},
   "source": [
    "#### Display the image below."
   ]
  },
  {
   "cell_type": "code",
   "execution_count": null,
   "metadata": {},
   "outputs": [],
   "source": [
    "plt.imshow(shifted_image,cmap=\"Greys_r\")\n",
    "plt.show()"
   ]
  },
  {
   "cell_type": "markdown",
   "metadata": {},
   "source": [
    "## Photographic evidence\n",
    "\n",
    "In this part we will perpetrate a hoax a create a more realistic bigfoot sighting.\n",
    "\n",
    "You will learn about blurring images and rotating images.\n",
    "\n",
    "#### We will be using the \"ndimage\" library from scipy. Import it below."
   ]
  },
  {
   "cell_type": "code",
   "execution_count": null,
   "metadata": {},
   "outputs": [],
   "source": [
    "from scipy import ndimage"
   ]
  },
  {
   "cell_type": "markdown",
   "metadata": {},
   "source": [
    "Load in bigfoot.jpg below and display the image."
   ]
  },
  {
   "cell_type": "code",
   "execution_count": null,
   "metadata": {},
   "outputs": [],
   "source": [
    "im = io.imread(\"bigfoot.jpg\", as_gray=True)\n",
    "plt.imshow(im, cmap=\"Greys_r\")\n",
    "plt.show()"
   ]
  },
  {
   "cell_type": "markdown",
   "metadata": {},
   "source": [
    "This isn't very convincing is it?\n",
    "\n",
    "Let's blur the image a bit.\n",
    "\n",
    "To do this we will use the \"gaussian_filter\" function that belongs to \"ndimage\".\n",
    "\n",
    "https://docs.scipy.org/doc/scipy/reference/generated/scipy.ndimage.gaussian_filter.html?highlight=gaussian_filter#scipy.ndimage.gaussian_filter\n",
    "\n",
    "This might be a bit too blurry. Try using a different value."
   ]
  },
  {
   "cell_type": "code",
   "execution_count": null,
   "metadata": {},
   "outputs": [],
   "source": [
    "blur = ndimage.gaussian_filter(im, sigma=7.5)\n",
    "plt.imshow(blur, cmap=\"Greys_r\")\n",
    "plt.show()"
   ]
  },
  {
   "cell_type": "markdown",
   "metadata": {},
   "source": [
    "Ok, that's a bit better but a it might be more realistic if the image was a bit wonky.\n",
    "\n",
    "Let's rotate the image. We can do this using the \"rotate\" function from \"ndimage\".\n",
    "\n",
    "https://docs.scipy.org/doc/scipy/reference/generated/scipy.ndimage.rotate.html?highlight=scipy%20ndimage%20interpolation%20rotate\n",
    "\n",
    "Try using different values."
   ]
  },
  {
   "cell_type": "code",
   "execution_count": null,
   "metadata": {},
   "outputs": [],
   "source": [
    "rotated = ndimage.rotate(blur, -5, reshape=True)\n",
    "plt.imshow(rotated, cmap=\"Greys_r\")\n",
    "plt.show()"
   ]
  },
  {
   "cell_type": "markdown",
   "metadata": {},
   "source": [
    "That looks a bit better but needs to be cropped so that the outside of the original image is not visible.\n",
    "\n",
    "#### Crop the array and display it below."
   ]
  },
  {
   "cell_type": "code",
   "execution_count": null,
   "metadata": {},
   "outputs": [],
   "source": [
    "cropped = rotated[100:700, 100:1100]\n",
    "plt.imshow(cropped, cmap=\"Greys_r\")\n",
    "plt.show()"
   ]
  },
  {
   "cell_type": "markdown",
   "metadata": {},
   "source": [
    "## Haunting a house\n",
    "\n",
    "In this part we will be squashing a ghost into a house! You will learn how to overlay images and how to resize an image.\n",
    "\n",
    "First, load in \"ghost.jpg\" and \"room.jpg\" and display these images.\n",
    "\n",
    "We can display mutliple plots at the same time. Anything we plot before calling plt.show() will appear on the same figure. However, underlying images may be obscured by subsequent images. We can use the keyword \"alpha\" to set the transparency of an image. \n",
    "\n",
    "Try changing the alpha value for the image below."
   ]
  },
  {
   "cell_type": "code",
   "execution_count": null,
   "metadata": {},
   "outputs": [],
   "source": [
    "im_ghost = io.imread(\"ghost.jpg\",as_gray=True)\n",
    "im_room = io.imread(\"room.jpg\",as_gray=True)\n",
    "\n",
    "plt.imshow(im_room, cmap=\"Greys_r\")\n",
    "plt.imshow(im_ghost, alpha=0.5, cmap=\"Greys_r\")\n",
    "plt.show()"
   ]
  },
  {
   "cell_type": "markdown",
   "metadata": {},
   "source": [
    "Hmmm, this ghost is both terrifying and far too big.\n",
    "\n",
    "We need to resize the ghost so that it matches the size of the room.\n",
    "\n",
    "Get the dimensions of the room image and save them to the variables \"lx\" and \"ly\". Remember, we did this before for our James Bond image."
   ]
  },
  {
   "cell_type": "code",
   "execution_count": null,
   "metadata": {},
   "outputs": [],
   "source": [
    "lx, ly = im_room.shape"
   ]
  },
  {
   "cell_type": "markdown",
   "metadata": {},
   "source": [
    "We can resize our image using \"imresize\" from \"misc\".\n",
    "\n",
    "https://docs.scipy.org/doc/scipy-0.18.1/reference/generated/scipy.misc.imresize.html\n",
    "\n",
    "The first argument of \"imresize\" is the image we want to resize and the second is a tuple giving the dimensions of the resized image. Here, they are the dimensions of our room image.\n",
    "\n",
    "#### Plot the room and the resized ghost image."
   ]
  },
  {
   "cell_type": "code",
   "execution_count": null,
   "metadata": {},
   "outputs": [],
   "source": [
    "resized_ghost = resize(im_ghost, (lx, ly))\n",
    "\n",
    "plt.imshow(im_room, cmap=\"Greys_r\")\n",
    "plt.imshow(resized_ghost, alpha=0.25, cmap=\"Greys_r\")\n",
    "plt.show()"
   ]
  },
  {
   "cell_type": "markdown",
   "metadata": {},
   "source": [
    "Spooky?!"
   ]
  },
  {
   "cell_type": "markdown",
   "metadata": {},
   "source": [
    "## Histograms\n",
    "\n",
    "In this part we will look at distribution of values within an image and how to display different window levels.\n",
    "\n",
    "First we will load in the image \"newyork.png\".\n",
    "\n",
    "To see the distribution of values in this image we can plot a histogram of the values. To do this we can use the \"hist\" function from matplotlib.pyplot.\n",
    "\n",
    "http://matplotlib.org/api/pyplot_api.html#matplotlib.pyplot.hist\n",
    "\n",
    "To plot the histogram, we need to flatten the 2d array. An array A, can be flattened using A.flatten()\n",
    "\n",
    "What is unusual about this image?\n",
    "Try changing some of the parameters in the histogram."
   ]
  },
  {
   "cell_type": "code",
   "execution_count": null,
   "metadata": {},
   "outputs": [],
   "source": [
    "im = io.imread(\"newyork.png\",as_gray=True)\n",
    "\n",
    "fig = plt.figure()\n",
    "\n",
    "ax = fig.add_subplot(211)\n",
    "ax2 = fig.add_subplot(212)\n",
    "\n",
    "ax.imshow(im, interpolation=\"none\", cmap=\"Greys_r\", vmin=0.5, vmax=0.8)\n",
    "ax2.hist(im.flatten(),bins=255,facecolor=\"Red\",edgecolor=\"Black\")\n",
    "\n",
    "plt.show()"
   ]
  },
  {
   "cell_type": "markdown",
   "metadata": {},
   "source": [
    "We can display a specific window of an image using the keywords \"vmin\" and \"vmax\".\n",
    "\n",
    "#### Find the maximum and minimum values of the array.\n",
    "#### Try displaying the image with different values of vmin and vmax.\n",
    "#### Try this for some of the other images we have looked at."
   ]
  },
  {
   "cell_type": "code",
   "execution_count": null,
   "metadata": {},
   "outputs": [],
   "source": [
    "print(np.min(im), np.max(im))\n",
    "\n",
    "plt.imshow(im, cmap=\"Greys_r\", vmin=0.0, vmax=1.0)\n",
    "plt.show()"
   ]
  },
  {
   "cell_type": "markdown",
   "metadata": {
    "collapsed": true
   },
   "source": [
    "We will use this (and some of the other stuff we have learnt in this session) this afternoon when we start to process some clinical medical images..."
   ]
  }
 ],
 "metadata": {
  "kernelspec": {
   "display_name": "Python 3",
   "language": "python",
   "name": "python3"
  },
  "language_info": {
   "codemirror_mode": {
    "name": "ipython",
    "version": 3
   },
   "file_extension": ".py",
   "mimetype": "text/x-python",
   "name": "python",
   "nbconvert_exporter": "python",
   "pygments_lexer": "ipython3",
   "version": "3.9.0"
  }
 },
 "nbformat": 4,
 "nbformat_minor": 1
}
