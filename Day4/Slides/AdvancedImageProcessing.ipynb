{
 "cells": [
  {
   "cell_type": "code",
   "execution_count": null,
   "metadata": {},
   "outputs": [],
   "source": [
    "import matplotlib.pyplot as plt\n",
    "from skimage import io\n",
    "import numpy as np\n",
    "import pydicom\n",
    "from scipy.ndimage import rotate\n",
    "\n",
    "%matplotlib notebook\n",
    "plt.rcParams['figure.figsize'] = (16.0, 12.0)\n",
    "\n",
    "## Make the notebook use full width of display\n",
    "from IPython.core.display import display, HTML\n",
    "display(HTML(\"<style>.container { width:100% !important; }</style>\"))"
   ]
  },
  {
   "cell_type": "markdown",
   "metadata": {},
   "source": [
    "# Loading data\n"
   ]
  },
  {
   "cell_type": "code",
   "execution_count": null,
   "metadata": {},
   "outputs": [],
   "source": [
    "lungs = io.imread(\"lungs.jpg\", as_gray=True)\n",
    "print(lungs.shape)"
   ]
  },
  {
   "cell_type": "markdown",
   "metadata": {},
   "source": [
    "# Window/Level\n",
    "\n",
    "Remember, this is just a way to change how we are visualising the data, it doesn't transform the data itself"
   ]
  },
  {
   "cell_type": "code",
   "execution_count": null,
   "metadata": {},
   "outputs": [],
   "source": [
    "print(lungs.max(), lungs.min())\n",
    "\n",
    "## Map HU to this range: \n",
    "## -1024 = 0\n",
    "##  3000 = 1\n",
    "## range = 4024\n",
    "\n",
    "## From yesterdays practical, you should have figured out what bits of the 0-1 scale correspond to what structures\n",
    "\n",
    "\n",
    "level = 1000/4024\n",
    "window = 1000/4024\n",
    "\n",
    "vis_min = level - window/2\n",
    "vis_max = level + window/2\n",
    "\n",
    "plt.imshow(lungs, cmap='Greys_r', vmin=vis_min, vmax=vis_max)\n",
    "\n",
    "plt.show()\n",
    "\n"
   ]
  },
  {
   "cell_type": "markdown",
   "metadata": {},
   "source": [
    "# Threshold\n",
    "\n",
    "You can use a threshold as a simple segmentation method"
   ]
  },
  {
   "cell_type": "code",
   "execution_count": null,
   "metadata": {},
   "outputs": [],
   "source": [
    "threshold_seg = np.zeros_like(lungs)\n",
    "threshold_seg[lungs > 2000/4024] = 1 ## This is a one-sided threshold\n",
    "threshold_seg[lungs > 2300/4024] = 0 ## this makes it a 'top-hat' threshold\n",
    "\n",
    "## Try tuning this so that only muscle is selected\n",
    "\n",
    "plt.imshow(threshold_seg, cmap='Greys_r')\n",
    "plt.show()"
   ]
  },
  {
   "cell_type": "markdown",
   "metadata": {},
   "source": [
    "# Interpolators\n",
    "\n",
    "Lets take the lungs image and rotate it through 720 degrees in 10 degree steps. this ought to show how bad the interpolators are\n",
    "\n",
    "Note, mode is about how the interpolatoe handles the edges, order is about how good the interpolation is, roughly:\n",
    " 0 = nearest\n",
    " 1 = linear\n",
    " 2+ = polynomial\n",
    " \n",
    "It refers to the order of the spline used in interpolation\n",
    "\n",
    "NB this cell will take a while to run!\n",
    "\n",
    "try playing with the number of degrees per step. How bad can you make it?"
   ]
  },
  {
   "cell_type": "code",
   "execution_count": null,
   "metadata": {},
   "outputs": [],
   "source": [
    "fig = plt.figure()\n",
    "\n",
    "ax0 = fig.add_subplot(231)\n",
    "ax1 = fig.add_subplot(232)\n",
    "ax2 = fig.add_subplot(233)\n",
    "\n",
    "ax0.imshow(lungs, cmap='Greys_r')\n",
    "ax1.imshow(lungs, cmap='Greys_r')\n",
    "ax2.imshow(lungs, cmap='Greys_r')\n",
    "\n",
    "lungs_nn = lungs.copy()\n",
    "lungs_lin = lungs.copy()\n",
    "lungs_poly = lungs.copy()\n",
    "\n",
    "ax20 = fig.add_subplot(234)\n",
    "ax21 = fig.add_subplot(235)\n",
    "ax22 = fig.add_subplot(236)\n",
    "\n",
    "l_nn_show = ax20.imshow(lungs_nn, cmap='Greys_r')\n",
    "ax20.set_title(f\"Root mean squared difference: {np.sqrt(np.mean((lungs_nn - lungs)**2)):.2f}\")\n",
    "\n",
    "l_lin_show = ax21.imshow(lungs_lin, cmap='Greys_r')\n",
    "ax21.set_title(f\"Root mean squared difference: {np.sqrt(np.mean((lungs_lin - lungs)**2)):.2f}\")\n",
    "l_poly_show = ax22.imshow(lungs_poly, cmap='Greys_r')\n",
    "ax22.set_title(f\"Root mean squared difference: {np.sqrt(np.mean((lungs_poly - lungs)**2)):.2f}\")\n",
    "plt.show()   \n",
    "\n",
    "degrees = 10\n",
    "for i in range(72):\n",
    "    print(f\"{i},\",end='')\n",
    "    lungs_nn = rotate(lungs_nn, degrees, mode='nearest', order=0, reshape=False)\n",
    "    lungs_lin = rotate(lungs_lin, degrees, mode='nearest', order=1, reshape=False)\n",
    "    lungs_poly = rotate(lungs_poly, degrees, mode='nearest', order=2, reshape=False)\n",
    "    \n",
    "    l_nn_show.set_data(lungs_nn)\n",
    "    ax20.set_title(f\"Root mean squared difference: {np.sqrt(np.mean((lungs_nn - lungs)**2)):.2f}\")\n",
    "    l_lin_show.set_data(lungs_lin)\n",
    "    ax21.set_title(f\"Root mean squared difference: {np.sqrt(np.mean((lungs_lin - lungs)**2)):.2f}\")\n",
    "\n",
    "    l_poly_show.set_data(lungs_poly)\n",
    "    ax22.set_title(f\"Root mean squared difference: {np.sqrt(np.mean((lungs_poly - lungs)**2)):.2f}\")\n",
    "\n",
    "    fig.canvas.draw()\n",
    "    \n",
    "    \n",
    "\n",
    "\n",
    "\n",
    "\n",
    "\n"
   ]
  },
  {
   "cell_type": "markdown",
   "metadata": {},
   "source": [
    "# DICOM\n",
    "\n",
    "Earlier in the notebook, I imported the pydicom module, lets now use it and see how it works"
   ]
  },
  {
   "cell_type": "code",
   "execution_count": null,
   "metadata": {},
   "outputs": [],
   "source": [
    "## There should be a file called \n",
    "patientImage = pydicom.read_file(\"IMG-0004-00001.dcm\")\n",
    "\n",
    "print(patientImage)\n",
    "\n",
    "fig2 = plt.figure()\n",
    "ax = fig2.add_subplot(111)\n",
    "ax.imshow(patientImage.pixel_array, cmap='Greys_r')\n",
    "plt.show()\n"
   ]
  },
  {
   "cell_type": "markdown",
   "metadata": {},
   "source": [
    "# Optimisers\n",
    "\n",
    "This cell will show you how to use an optimizer for a very simple problem - finding the minimum of a function\n",
    "\n",
    "To do this, we will use a simple optimizer in scipy, the brute force optimiser:\n",
    "\n",
    "https://docs.scipy.org/doc/scipy/reference/generated/scipy.optimize.brute.html\n",
    "\n",
    "This optimiser evaluates the function on a grid of points and homes in on the best value by looking where the function is minimum. There are other, better optimizers, for example differential_evolution, which you could try.\n",
    "\n",
    "For now, we will define a function (which is equivalent to our 'cost' function) and try to minimise it using brute. I have decided to minimise a simple quadratic with a known root, because it is easy to know if we got the right answer or not.\n",
    "\n",
    "In the next few cells, I import the optimiser and define the function. Then I plot it over some domain, just to make sure it is doing what I think it should be\n",
    "\n",
    "Then we use the brute force optimiser to find the root. Note the call looks like `brute(fcn, ((-10.0, 10.0),))`. The ((-10.0, 10.0),) sets the range over which it will look for solutions. One tricky detail here is that brute expects a tuple of tuples - that's why there is an extra comma."
   ]
  },
  {
   "cell_type": "code",
   "execution_count": null,
   "metadata": {},
   "outputs": [],
   "source": [
    "from scipy.optimize import brute"
   ]
  },
  {
   "cell_type": "code",
   "execution_count": null,
   "metadata": {},
   "outputs": [],
   "source": [
    "def fcn(x):\n",
    "    return  (x  - 1.7732)**2\n",
    "\n",
    "\n",
    "def fcn2(x):\n",
    "    return  0.5*x*(0.5*(x  - 4)**3 - 0.5*(x-1)**2 + 7)\n",
    "\n",
    "\n",
    "# let x be in the range -10 -> 10, taken at 1000 equally spaced points\n",
    "domain = np.linspace(-10, 10, 1000)\n",
    "\n",
    "domain2 = np.linspace(0, 7, 1000)\n",
    "\n",
    "fig = plt.figure()\n",
    "plt.plot(domain, fcn(domain))\n",
    "plt.show()"
   ]
  },
  {
   "cell_type": "code",
   "execution_count": null,
   "metadata": {},
   "outputs": [],
   "source": [
    "## now run brute to find the minimum value\n",
    "\n",
    "minval = brute(fcn, ((-10.0, 10.0),))\n",
    "\n",
    "print(minval)"
   ]
  },
  {
   "cell_type": "markdown",
   "metadata": {},
   "source": [
    "You should see that brute has found the root of the equation pretty accurately. Try:\n",
    "    \n",
    "- Changing the root. Does brute work even if it is close to the edge of the domain?\n",
    "- Changing the range over which brute evaluates the function, what if it deliberately doesn't contain the root?\n",
    "- Try other optimisers, e.g. differential_evolution\n",
    "- Try minimizing fcn2. First plot it by doing `plt.plot(domain2, fcn2(domain2))` Do you see any problems?"
   ]
  }
 ],
 "metadata": {
  "kernelspec": {
   "display_name": "Python 3",
   "language": "python",
   "name": "python3"
  },
  "language_info": {
   "codemirror_mode": {
    "name": "ipython",
    "version": 3
   },
   "file_extension": ".py",
   "mimetype": "text/x-python",
   "name": "python",
   "nbconvert_exporter": "python",
   "pygments_lexer": "ipython3",
   "version": "3.8.6"
  }
 },
 "nbformat": 4,
 "nbformat_minor": 4
}
