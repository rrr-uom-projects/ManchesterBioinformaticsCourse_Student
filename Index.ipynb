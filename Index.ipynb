{
 "metadata": {
  "language_info": {
   "codemirror_mode": {
    "name": "ipython",
    "version": 3
   },
   "file_extension": ".py",
   "mimetype": "text/x-python",
   "name": "python",
   "nbconvert_exporter": "python",
   "pygments_lexer": "ipython3",
   "version": 3
  },
  "orig_nbformat": 2
 },
 "nbformat": 4,
 "nbformat_minor": 2,
 "cells": [
  {
   "source": [
    "# Notebook Index\n",
    "\n",
    "These links should work to open the notebooks for each lecture in colab\n",
    "\n",
    "_NB: We recommend you develop your solutions locally, i.e. on the laptop in front of you_"
   ],
   "cell_type": "markdown",
   "metadata": {}
  },
  {
   "source": [
    "The days refer to how the course was originally constructed - the order/bits you do may be slightly different\n",
    "\n",
    "## Day 1\n",
    "Introduction to python - practise some basics\n",
    "\n",
    "[Day 1 Reference notebook](Day1/Slides/PythonBasicsReference.ipynb)\n",
    "\n",
    "[Day 1 Assignment notebook](Day1/Code/Assignment1.ipynb)\n",
    "\n",
    "## Day 2\n",
    "Start doing some image processing!\n",
    "\n",
    "[Day 2 Slide accompaniment](Day2/Slides/ImageProcessingInPython.ipynb)\n",
    "\n",
    "_This may or may not be applicable..._\n",
    "\n",
    "Do some simple signal processing on a breathing signal\n",
    "\n",
    "[Day 2 code](Day2/Code/assignment_day2.py)\n",
    "\n",
    "## Day 3\n",
    "Start doing some image registration in python\n",
    "\n",
    "[Day 3 Slide accompaniment](Day3/Slides/BreakingPython.ipynb)\n",
    "\n",
    "_Note: you can edit the python code in a notebook, but you should run it on your machine_\n",
    "\n",
    "[Day 3 code](Day3/Code/Assignment.py)\n",
    "\n",
    "## Day 4\n",
    "Automate the image registration with an optimiser\n",
    "\n",
    "[Day 4 Slide accompaniment](Day4/Slides/AdvancedImageProcessing.ipynb)\n"
   ],
   "cell_type": "markdown",
   "metadata": {}
  }
 ]
}